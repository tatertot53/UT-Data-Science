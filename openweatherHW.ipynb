{
 "cells": [
  {
   "cell_type": "markdown",
   "metadata": {},
   "source": [
    "Observations\n",
    "Analysis of this random dataset of 500 cities and countries reveals a few details about how weather is affected as it relates to latitude and ultimately, distance from the equator. \n",
    "Clearly, max temperature is almost directly affected by distance from the equator. One factor not directly revealed by the data gathered in this observation is the slight skew of temperature to one hemisphere of the globe. This can be inferred as having to do with the tilt of the earth on its axis, generating more warmth on one hemisphere as compared to the other. In this case, the southern hemisphere is definitely showing warmer maximum temperatures, indicating the earth is tilted so the northern hemisphere is further from the sun.\n",
    "Cloud cover has almost no relationship to distance from the equator, as the data show a randomly distributed scatterplot. This indicates a low correlation between the two factors. Wind speed is not directly affected by latitudinal position. Both comparisons in this respect do provide clear pictures of where a majority of the cities in the world sit on average and frequency in terms of wind speed and cloud cover.\n",
    "Humidity also does not show a great deal of correlation as it relates to latitude. Because humidity is often strongly associated with distance from large bodies of water, and that the earth is over 70% water, it makes sense that the data skews to the higher end of the scale here.\n",
    "Overall, geography as it relates to latitude does have an affect on the local weather, however given the small sample size in terms of time, the only clear direct relationship that can be inferred, in my opinion, are that temperature extremes depend a great deal on a city’s distance from the equator.\n"
   ]
  },
  {
   "cell_type": "markdown",
   "metadata": {},
   "source": [
    "DEPENDENCIES"
   ]
  },
  {
   "cell_type": "code",
   "execution_count": 1,
   "metadata": {
    "collapsed": true
   },
   "outputs": [],
   "source": [
    "import json\n",
    "import pandas as pd\n",
    "import requests as req\n",
    "import random\n",
    "from citipy import citipy\n",
    "import seaborn as sns\n",
    "import csv\n",
    "import numpy as np\n",
    "import time\n",
    "from datetime import datetime\n",
    "import matplotlib.pyplot as plt\n",
    "sns.set(style=\"darkgrid\", color_codes=True)"
   ]
  },
  {
   "cell_type": "markdown",
   "metadata": {},
   "source": [
    "CONFIG VARIABLES"
   ]
  },
  {
   "cell_type": "code",
   "execution_count": 2,
   "metadata": {
    "collapsed": true
   },
   "outputs": [],
   "source": [
    "api_key = \"d3cfde203de9c80b7b1bab1e8e60ab91\"\n",
    "url = \"http://api.openweathermap.org/data/2.5/weather?\"\n",
    "units = \"Imperial\""
   ]
  },
  {
   "cell_type": "markdown",
   "metadata": {},
   "source": [
    "GENERATING RANDOM LATITUDE AND LONGITUDE DATA"
   ]
  },
  {
   "cell_type": "code",
   "execution_count": 3,
   "metadata": {},
   "outputs": [
    {
     "data": {
      "text/html": [
       "<div>\n",
       "<style>\n",
       "    .dataframe thead tr:only-child th {\n",
       "        text-align: right;\n",
       "    }\n",
       "\n",
       "    .dataframe thead th {\n",
       "        text-align: left;\n",
       "    }\n",
       "\n",
       "    .dataframe tbody tr th {\n",
       "        vertical-align: top;\n",
       "    }\n",
       "</style>\n",
       "<table border=\"1\" class=\"dataframe\">\n",
       "  <thead>\n",
       "    <tr style=\"text-align: right;\">\n",
       "      <th></th>\n",
       "      <th>lat</th>\n",
       "      <th>lon</th>\n",
       "    </tr>\n",
       "  </thead>\n",
       "  <tbody>\n",
       "    <tr>\n",
       "      <th>0</th>\n",
       "      <td>53.995415</td>\n",
       "      <td>136.910796</td>\n",
       "    </tr>\n",
       "    <tr>\n",
       "      <th>1</th>\n",
       "      <td>1.827802</td>\n",
       "      <td>100.131317</td>\n",
       "    </tr>\n",
       "    <tr>\n",
       "      <th>2</th>\n",
       "      <td>-44.709328</td>\n",
       "      <td>86.839330</td>\n",
       "    </tr>\n",
       "    <tr>\n",
       "      <th>3</th>\n",
       "      <td>-4.456784</td>\n",
       "      <td>95.307876</td>\n",
       "    </tr>\n",
       "    <tr>\n",
       "      <th>4</th>\n",
       "      <td>55.583738</td>\n",
       "      <td>95.400485</td>\n",
       "    </tr>\n",
       "  </tbody>\n",
       "</table>\n",
       "</div>"
      ],
      "text/plain": [
       "         lat         lon\n",
       "0  53.995415  136.910796\n",
       "1   1.827802  100.131317\n",
       "2 -44.709328   86.839330\n",
       "3  -4.456784   95.307876\n",
       "4  55.583738   95.400485"
      ]
     },
     "execution_count": 3,
     "metadata": {},
     "output_type": "execute_result"
    }
   ],
   "source": [
    "location = pd.DataFrame()\n",
    "location['lat'] = pd.unique([np.random.uniform(-90,90) for x in range(1000)])\n",
    "location['lon'] = pd.unique([np.random.uniform(-180, 180) for x in range(1000)])\n",
    "\n",
    "location.head()"
   ]
  },
  {
   "cell_type": "markdown",
   "metadata": {},
   "source": [
    "ASSIGNING LAT AND LON TO CITY & COUNTRY ID WITH CITIPY"
   ]
  },
  {
   "cell_type": "code",
   "execution_count": 4,
   "metadata": {},
   "outputs": [
    {
     "data": {
      "text/html": [
       "<div>\n",
       "<style>\n",
       "    .dataframe thead tr:only-child th {\n",
       "        text-align: right;\n",
       "    }\n",
       "\n",
       "    .dataframe thead th {\n",
       "        text-align: left;\n",
       "    }\n",
       "\n",
       "    .dataframe tbody tr th {\n",
       "        vertical-align: top;\n",
       "    }\n",
       "</style>\n",
       "<table border=\"1\" class=\"dataframe\">\n",
       "  <thead>\n",
       "    <tr style=\"text-align: right;\">\n",
       "      <th></th>\n",
       "      <th>lat</th>\n",
       "      <th>lon</th>\n",
       "      <th>city</th>\n",
       "      <th>country</th>\n",
       "    </tr>\n",
       "  </thead>\n",
       "  <tbody>\n",
       "    <tr>\n",
       "      <th>0</th>\n",
       "      <td>53.995415</td>\n",
       "      <td>136.910796</td>\n",
       "      <td>imeni poliny osipenko</td>\n",
       "      <td>ru</td>\n",
       "    </tr>\n",
       "    <tr>\n",
       "      <th>1</th>\n",
       "      <td>1.827802</td>\n",
       "      <td>100.131317</td>\n",
       "      <td>rantauprapat</td>\n",
       "      <td>id</td>\n",
       "    </tr>\n",
       "    <tr>\n",
       "      <th>2</th>\n",
       "      <td>-44.709328</td>\n",
       "      <td>86.839330</td>\n",
       "      <td>busselton</td>\n",
       "      <td>au</td>\n",
       "    </tr>\n",
       "    <tr>\n",
       "      <th>3</th>\n",
       "      <td>-4.456784</td>\n",
       "      <td>95.307876</td>\n",
       "      <td>padang</td>\n",
       "      <td>id</td>\n",
       "    </tr>\n",
       "    <tr>\n",
       "      <th>4</th>\n",
       "      <td>55.583738</td>\n",
       "      <td>95.400485</td>\n",
       "      <td>irbeyskoye</td>\n",
       "      <td>ru</td>\n",
       "    </tr>\n",
       "  </tbody>\n",
       "</table>\n",
       "</div>"
      ],
      "text/plain": [
       "         lat         lon                   city country\n",
       "0  53.995415  136.910796  imeni poliny osipenko      ru\n",
       "1   1.827802  100.131317           rantauprapat      id\n",
       "2 -44.709328   86.839330              busselton      au\n",
       "3  -4.456784   95.307876                 padang      id\n",
       "4  55.583738   95.400485             irbeyskoye      ru"
      ]
     },
     "execution_count": 4,
     "metadata": {},
     "output_type": "execute_result"
    }
   ],
   "source": [
    "location['city'] = \"\"\n",
    "location['country'] = \"\"\n",
    "\n",
    "count = 0\n",
    "for index, row in location.iterrows():\n",
    "    city = citipy.nearest_city(row['lat'], row['lon']).city_name\n",
    "    country = citipy.nearest_city(row['lat'], row['lon']).country_code\n",
    "    location.set_value(index,\"city\",city)\n",
    "    location.set_value(index,\"country\",country)\n",
    "location.head()"
   ]
  },
  {
   "cell_type": "code",
   "execution_count": 5,
   "metadata": {},
   "outputs": [
    {
     "data": {
      "text/plain": [
       "1000"
      ]
     },
     "execution_count": 5,
     "metadata": {},
     "output_type": "execute_result"
    }
   ],
   "source": [
    "len(location)"
   ]
  },
  {
   "cell_type": "markdown",
   "metadata": {},
   "source": [
    "CREATING LISTS"
   ]
  },
  {
   "cell_type": "code",
   "execution_count": 6,
   "metadata": {
    "collapsed": true
   },
   "outputs": [],
   "source": [
    "location['Max Temp'] = \"\"\n",
    "location['Humidity'] = \"\"\n",
    "location['Cloudiness'] = \"\"\n",
    "location['Wind Speed'] = \"\"\n",
    "location[\"Date\"] = \"\"\n",
    "location[\"ID\"] = \"\""
   ]
  },
  {
   "cell_type": "code",
   "execution_count": 7,
   "metadata": {},
   "outputs": [
    {
     "data": {
      "text/plain": [
       "500"
      ]
     },
     "execution_count": 7,
     "metadata": {},
     "output_type": "execute_result"
    }
   ],
   "source": [
    "location_clean = location.dropna()\n",
    "location_clean = location.sample(n=500)\n",
    "len(location_clean)"
   ]
  },
  {
   "cell_type": "markdown",
   "metadata": {},
   "source": [
    "API LOOP & OUTPUT"
   ]
  },
  {
   "cell_type": "code",
   "execution_count": 8,
   "metadata": {},
   "outputs": [
    {
     "name": "stdout",
     "output_type": "stream",
     "text": [
      "Data Gathered for 934322, mahebourg, http://api.openweathermap.org/data/2.5/weather?appid=d3cfde203de9c80b7b1bab1e8e60ab91&units=Imperial&q=mahebourg\n",
      "Data Gathered for 1113217, zabol, http://api.openweathermap.org/data/2.5/weather?appid=d3cfde203de9c80b7b1bab1e8e60ab91&units=Imperial&q=zabol\n",
      "Data Gathered for 3347019, namibe, http://api.openweathermap.org/data/2.5/weather?appid=d3cfde203de9c80b7b1bab1e8e60ab91&units=Imperial&q=namibe\n",
      "Data Gathered for 4020109, atuona, http://api.openweathermap.org/data/2.5/weather?appid=d3cfde203de9c80b7b1bab1e8e60ab91&units=Imperial&q=atuona\n",
      "Not Enough Info for vaitupu, wf\n",
      "Data Gathered for 3874787, punta arenas, http://api.openweathermap.org/data/2.5/weather?appid=d3cfde203de9c80b7b1bab1e8e60ab91&units=Imperial&q=punta arenas\n",
      "Data Gathered for 5606187, saint anthony, http://api.openweathermap.org/data/2.5/weather?appid=d3cfde203de9c80b7b1bab1e8e60ab91&units=Imperial&q=saint anthony\n",
      "Data Gathered for 3833367, ushuaia, http://api.openweathermap.org/data/2.5/weather?appid=d3cfde203de9c80b7b1bab1e8e60ab91&units=Imperial&q=ushuaia\n",
      "Data Gathered for 2610343, vestmanna, http://api.openweathermap.org/data/2.5/weather?appid=d3cfde203de9c80b7b1bab1e8e60ab91&units=Imperial&q=vestmanna\n",
      "Data Gathered for 1651810, airai, http://api.openweathermap.org/data/2.5/weather?appid=d3cfde203de9c80b7b1bab1e8e60ab91&units=Imperial&q=airai\n",
      "Data Gathered for 4696310, harper, http://api.openweathermap.org/data/2.5/weather?appid=d3cfde203de9c80b7b1bab1e8e60ab91&units=Imperial&q=harper\n",
      "Data Gathered for 1715015, dicabisagan, http://api.openweathermap.org/data/2.5/weather?appid=d3cfde203de9c80b7b1bab1e8e60ab91&units=Imperial&q=dicabisagan\n",
      "Data Gathered for 1106677, bambous virieux, http://api.openweathermap.org/data/2.5/weather?appid=d3cfde203de9c80b7b1bab1e8e60ab91&units=Imperial&q=bambous virieux\n",
      "Data Gathered for 1688687, san quintin, http://api.openweathermap.org/data/2.5/weather?appid=d3cfde203de9c80b7b1bab1e8e60ab91&units=Imperial&q=san quintin\n",
      "Data Gathered for 2110227, butaritari, http://api.openweathermap.org/data/2.5/weather?appid=d3cfde203de9c80b7b1bab1e8e60ab91&units=Imperial&q=butaritari\n",
      "Data Gathered for 481548, troitsko-pechorsk, http://api.openweathermap.org/data/2.5/weather?appid=d3cfde203de9c80b7b1bab1e8e60ab91&units=Imperial&q=troitsko-pechorsk\n",
      "Data Gathered for 962367, richards bay, http://api.openweathermap.org/data/2.5/weather?appid=d3cfde203de9c80b7b1bab1e8e60ab91&units=Imperial&q=richards bay\n",
      "Not Enough Info for olafsvik, is\n",
      "Data Gathered for 1633419, padang, http://api.openweathermap.org/data/2.5/weather?appid=d3cfde203de9c80b7b1bab1e8e60ab91&units=Imperial&q=padang\n",
      "Data Gathered for 3366880, hermanus, http://api.openweathermap.org/data/2.5/weather?appid=d3cfde203de9c80b7b1bab1e8e60ab91&units=Imperial&q=hermanus\n",
      "Data Gathered for 2022129, kichera, http://api.openweathermap.org/data/2.5/weather?appid=d3cfde203de9c80b7b1bab1e8e60ab91&units=Imperial&q=kichera\n",
      "Data Gathered for 2156643, mount gambier, http://api.openweathermap.org/data/2.5/weather?appid=d3cfde203de9c80b7b1bab1e8e60ab91&units=Imperial&q=mount gambier\n",
      "Not Enough Info for saleaula, ws\n",
      "Data Gathered for 2075265, busselton, http://api.openweathermap.org/data/2.5/weather?appid=d3cfde203de9c80b7b1bab1e8e60ab91&units=Imperial&q=busselton\n",
      "Data Gathered for 6540432, cervia, http://api.openweathermap.org/data/2.5/weather?appid=d3cfde203de9c80b7b1bab1e8e60ab91&units=Imperial&q=cervia\n",
      "Data Gathered for 3357804, eenhana, http://api.openweathermap.org/data/2.5/weather?appid=d3cfde203de9c80b7b1bab1e8e60ab91&units=Imperial&q=eenhana\n",
      "Data Gathered for 4030556, rikitea, http://api.openweathermap.org/data/2.5/weather?appid=d3cfde203de9c80b7b1bab1e8e60ab91&units=Imperial&q=rikitea\n",
      "Data Gathered for 4944903, nantucket, http://api.openweathermap.org/data/2.5/weather?appid=d3cfde203de9c80b7b1bab1e8e60ab91&units=Imperial&q=nantucket\n",
      "Data Gathered for 6089245, norman wells, http://api.openweathermap.org/data/2.5/weather?appid=d3cfde203de9c80b7b1bab1e8e60ab91&units=Imperial&q=norman wells\n",
      "Data Gathered for 3631878, moron, http://api.openweathermap.org/data/2.5/weather?appid=d3cfde203de9c80b7b1bab1e8e60ab91&units=Imperial&q=moron\n",
      "Not Enough Info for olafsvik, is\n",
      "Data Gathered for 4020109, atuona, http://api.openweathermap.org/data/2.5/weather?appid=d3cfde203de9c80b7b1bab1e8e60ab91&units=Imperial&q=atuona\n",
      "Data Gathered for 1168312, pasni, http://api.openweathermap.org/data/2.5/weather?appid=d3cfde203de9c80b7b1bab1e8e60ab91&units=Imperial&q=pasni\n",
      "Data Gathered for 3397763, jacareacanga, http://api.openweathermap.org/data/2.5/weather?appid=d3cfde203de9c80b7b1bab1e8e60ab91&units=Imperial&q=jacareacanga\n",
      "Data Gathered for 962367, richards bay, http://api.openweathermap.org/data/2.5/weather?appid=d3cfde203de9c80b7b1bab1e8e60ab91&units=Imperial&q=richards bay\n",
      "Data Gathered for 3374210, sao filipe, http://api.openweathermap.org/data/2.5/weather?appid=d3cfde203de9c80b7b1bab1e8e60ab91&units=Imperial&q=sao filipe\n",
      "Data Gathered for 4030556, rikitea, http://api.openweathermap.org/data/2.5/weather?appid=d3cfde203de9c80b7b1bab1e8e60ab91&units=Imperial&q=rikitea\n",
      "Not Enough Info for belushya guba, ru\n",
      "Data Gathered for 3874787, punta arenas, http://api.openweathermap.org/data/2.5/weather?appid=d3cfde203de9c80b7b1bab1e8e60ab91&units=Imperial&q=punta arenas\n",
      "Data Gathered for 1015776, bredasdorp, http://api.openweathermap.org/data/2.5/weather?appid=d3cfde203de9c80b7b1bab1e8e60ab91&units=Imperial&q=bredasdorp\n",
      "Data Gathered for 3833367, ushuaia, http://api.openweathermap.org/data/2.5/weather?appid=d3cfde203de9c80b7b1bab1e8e60ab91&units=Imperial&q=ushuaia\n",
      "Data Gathered for 2396518, port-gentil, http://api.openweathermap.org/data/2.5/weather?appid=d3cfde203de9c80b7b1bab1e8e60ab91&units=Imperial&q=port-gentil\n",
      "Data Gathered for 5880568, bethel, http://api.openweathermap.org/data/2.5/weather?appid=d3cfde203de9c80b7b1bab1e8e60ab91&units=Imperial&q=bethel\n",
      "Data Gathered for 3514843, vega de alatorre, http://api.openweathermap.org/data/2.5/weather?appid=d3cfde203de9c80b7b1bab1e8e60ab91&units=Imperial&q=vega de alatorre\n",
      "Data Gathered for 3874787, punta arenas, http://api.openweathermap.org/data/2.5/weather?appid=d3cfde203de9c80b7b1bab1e8e60ab91&units=Imperial&q=punta arenas\n",
      "Data Gathered for 2122493, omsukchan, http://api.openweathermap.org/data/2.5/weather?appid=d3cfde203de9c80b7b1bab1e8e60ab91&units=Imperial&q=omsukchan\n",
      "Data Gathered for 1014034, carnarvon, http://api.openweathermap.org/data/2.5/weather?appid=d3cfde203de9c80b7b1bab1e8e60ab91&units=Imperial&q=carnarvon\n",
      "Data Gathered for 4021858, guerrero negro, http://api.openweathermap.org/data/2.5/weather?appid=d3cfde203de9c80b7b1bab1e8e60ab91&units=Imperial&q=guerrero negro\n",
      "Data Gathered for 1282256, hithadhoo, http://api.openweathermap.org/data/2.5/weather?appid=d3cfde203de9c80b7b1bab1e8e60ab91&units=Imperial&q=hithadhoo\n",
      "Data Gathered for 3833859, tres arroyos, http://api.openweathermap.org/data/2.5/weather?appid=d3cfde203de9c80b7b1bab1e8e60ab91&units=Imperial&q=tres arroyos\n",
      "Data Gathered for 3355672, luderitz, http://api.openweathermap.org/data/2.5/weather?appid=d3cfde203de9c80b7b1bab1e8e60ab91&units=Imperial&q=luderitz\n",
      "Data Gathered for 6255012, flinders, http://api.openweathermap.org/data/2.5/weather?appid=d3cfde203de9c80b7b1bab1e8e60ab91&units=Imperial&q=flinders\n",
      "Data Gathered for 7626384, hovd, http://api.openweathermap.org/data/2.5/weather?appid=d3cfde203de9c80b7b1bab1e8e60ab91&units=Imperial&q=hovd\n",
      "Data Gathered for 3372707, ribeira grande, http://api.openweathermap.org/data/2.5/weather?appid=d3cfde203de9c80b7b1bab1e8e60ab91&units=Imperial&q=ribeira grande\n",
      "Data Gathered for 3514843, vega de alatorre, http://api.openweathermap.org/data/2.5/weather?appid=d3cfde203de9c80b7b1bab1e8e60ab91&units=Imperial&q=vega de alatorre\n",
      "Data Gathered for 2618795, klaksvik, http://api.openweathermap.org/data/2.5/weather?appid=d3cfde203de9c80b7b1bab1e8e60ab91&units=Imperial&q=klaksvik\n",
      "Data Gathered for 2023584, imeni poliny osipenko, http://api.openweathermap.org/data/2.5/weather?appid=d3cfde203de9c80b7b1bab1e8e60ab91&units=Imperial&q=imeni poliny osipenko\n",
      "Data Gathered for 3652462, san cristobal, http://api.openweathermap.org/data/2.5/weather?appid=d3cfde203de9c80b7b1bab1e8e60ab91&units=Imperial&q=san cristobal\n",
      "Data Gathered for 2075265, busselton, http://api.openweathermap.org/data/2.5/weather?appid=d3cfde203de9c80b7b1bab1e8e60ab91&units=Imperial&q=busselton\n"
     ]
    },
    {
     "name": "stdout",
     "output_type": "stream",
     "text": [
      "Data Gathered for 2022572, khatanga, http://api.openweathermap.org/data/2.5/weather?appid=d3cfde203de9c80b7b1bab1e8e60ab91&units=Imperial&q=khatanga\n",
      "Data Gathered for 3137469, sorland, http://api.openweathermap.org/data/2.5/weather?appid=d3cfde203de9c80b7b1bab1e8e60ab91&units=Imperial&q=sorland\n",
      "Data Gathered for 3526756, isla mujeres, http://api.openweathermap.org/data/2.5/weather?appid=d3cfde203de9c80b7b1bab1e8e60ab91&units=Imperial&q=isla mujeres\n",
      "Data Gathered for 1056151, mananjary, http://api.openweathermap.org/data/2.5/weather?appid=d3cfde203de9c80b7b1bab1e8e60ab91&units=Imperial&q=mananjary\n",
      "Data Gathered for 3616584, san ramon, http://api.openweathermap.org/data/2.5/weather?appid=d3cfde203de9c80b7b1bab1e8e60ab91&units=Imperial&q=san ramon\n",
      "Data Gathered for 1788852, xining, http://api.openweathermap.org/data/2.5/weather?appid=d3cfde203de9c80b7b1bab1e8e60ab91&units=Imperial&q=xining\n",
      "Data Gathered for 1106677, bambous virieux, http://api.openweathermap.org/data/2.5/weather?appid=d3cfde203de9c80b7b1bab1e8e60ab91&units=Imperial&q=bambous virieux\n",
      "Data Gathered for 2612500, stovring, http://api.openweathermap.org/data/2.5/weather?appid=d3cfde203de9c80b7b1bab1e8e60ab91&units=Imperial&q=stovring\n",
      "Data Gathered for 4030556, rikitea, http://api.openweathermap.org/data/2.5/weather?appid=d3cfde203de9c80b7b1bab1e8e60ab91&units=Imperial&q=rikitea\n",
      "Data Gathered for 2013865, ust-uda, http://api.openweathermap.org/data/2.5/weather?appid=d3cfde203de9c80b7b1bab1e8e60ab91&units=Imperial&q=ust-uda\n",
      "Data Gathered for 1852357, shimoda, http://api.openweathermap.org/data/2.5/weather?appid=d3cfde203de9c80b7b1bab1e8e60ab91&units=Imperial&q=shimoda\n",
      "Data Gathered for 3391220, presidente dutra, http://api.openweathermap.org/data/2.5/weather?appid=d3cfde203de9c80b7b1bab1e8e60ab91&units=Imperial&q=presidente dutra\n",
      "Data Gathered for 3026644, souillac, http://api.openweathermap.org/data/2.5/weather?appid=d3cfde203de9c80b7b1bab1e8e60ab91&units=Imperial&q=souillac\n",
      "Data Gathered for 2025256, chumikan, http://api.openweathermap.org/data/2.5/weather?appid=d3cfde203de9c80b7b1bab1e8e60ab91&units=Imperial&q=chumikan\n",
      "Data Gathered for 2450173, taoudenni, http://api.openweathermap.org/data/2.5/weather?appid=d3cfde203de9c80b7b1bab1e8e60ab91&units=Imperial&q=taoudenni\n",
      "Data Gathered for 2122605, okhotsk, http://api.openweathermap.org/data/2.5/weather?appid=d3cfde203de9c80b7b1bab1e8e60ab91&units=Imperial&q=okhotsk\n",
      "Data Gathered for 1791636, weinan, http://api.openweathermap.org/data/2.5/weather?appid=d3cfde203de9c80b7b1bab1e8e60ab91&units=Imperial&q=weinan\n",
      "Not Enough Info for grand river south east, mu\n",
      "Not Enough Info for mys shmidta, ru\n",
      "Data Gathered for 1861280, itoman, http://api.openweathermap.org/data/2.5/weather?appid=d3cfde203de9c80b7b1bab1e8e60ab91&units=Imperial&q=itoman\n",
      "Data Gathered for 2377457, nouadhibou, http://api.openweathermap.org/data/2.5/weather?appid=d3cfde203de9c80b7b1bab1e8e60ab91&units=Imperial&q=nouadhibou\n",
      "Data Gathered for 1733782, victoria, http://api.openweathermap.org/data/2.5/weather?appid=d3cfde203de9c80b7b1bab1e8e60ab91&units=Imperial&q=victoria\n",
      "Data Gathered for 5960603, geraldton, http://api.openweathermap.org/data/2.5/weather?appid=d3cfde203de9c80b7b1bab1e8e60ab91&units=Imperial&q=geraldton\n",
      "Data Gathered for 5855927, hilo, http://api.openweathermap.org/data/2.5/weather?appid=d3cfde203de9c80b7b1bab1e8e60ab91&units=Imperial&q=hilo\n",
      "Data Gathered for 1805733, jinchang, http://api.openweathermap.org/data/2.5/weather?appid=d3cfde203de9c80b7b1bab1e8e60ab91&units=Imperial&q=jinchang\n",
      "Data Gathered for 3833367, ushuaia, http://api.openweathermap.org/data/2.5/weather?appid=d3cfde203de9c80b7b1bab1e8e60ab91&units=Imperial&q=ushuaia\n",
      "Data Gathered for 2189343, kaeo, http://api.openweathermap.org/data/2.5/weather?appid=d3cfde203de9c80b7b1bab1e8e60ab91&units=Imperial&q=kaeo\n",
      "Data Gathered for 162627, yabrud, http://api.openweathermap.org/data/2.5/weather?appid=d3cfde203de9c80b7b1bab1e8e60ab91&units=Imperial&q=yabrud\n",
      "Data Gathered for 2013459, verkh-usugli, http://api.openweathermap.org/data/2.5/weather?appid=d3cfde203de9c80b7b1bab1e8e60ab91&units=Imperial&q=verkh-usugli\n",
      "Data Gathered for 4020109, atuona, http://api.openweathermap.org/data/2.5/weather?appid=d3cfde203de9c80b7b1bab1e8e60ab91&units=Imperial&q=atuona\n",
      "Data Gathered for 6201424, mataura, http://api.openweathermap.org/data/2.5/weather?appid=d3cfde203de9c80b7b1bab1e8e60ab91&units=Imperial&q=mataura\n",
      "Data Gathered for 4030556, rikitea, http://api.openweathermap.org/data/2.5/weather?appid=d3cfde203de9c80b7b1bab1e8e60ab91&units=Imperial&q=rikitea\n",
      "Data Gathered for 1490256, talnakh, http://api.openweathermap.org/data/2.5/weather?appid=d3cfde203de9c80b7b1bab1e8e60ab91&units=Imperial&q=talnakh\n",
      "Data Gathered for 3833367, ushuaia, http://api.openweathermap.org/data/2.5/weather?appid=d3cfde203de9c80b7b1bab1e8e60ab91&units=Imperial&q=ushuaia\n",
      "Data Gathered for 3374210, sao filipe, http://api.openweathermap.org/data/2.5/weather?appid=d3cfde203de9c80b7b1bab1e8e60ab91&units=Imperial&q=sao filipe\n",
      "Not Enough Info for barentsburg, sj\n",
      "Data Gathered for 3838859, rio gallegos, http://api.openweathermap.org/data/2.5/weather?appid=d3cfde203de9c80b7b1bab1e8e60ab91&units=Imperial&q=rio gallegos\n",
      "Data Gathered for 3833367, ushuaia, http://api.openweathermap.org/data/2.5/weather?appid=d3cfde203de9c80b7b1bab1e8e60ab91&units=Imperial&q=ushuaia\n",
      "Data Gathered for 3833367, ushuaia, http://api.openweathermap.org/data/2.5/weather?appid=d3cfde203de9c80b7b1bab1e8e60ab91&units=Imperial&q=ushuaia\n",
      "Data Gathered for 2075265, busselton, http://api.openweathermap.org/data/2.5/weather?appid=d3cfde203de9c80b7b1bab1e8e60ab91&units=Imperial&q=busselton\n",
      "Data Gathered for 3369157, cape town, http://api.openweathermap.org/data/2.5/weather?appid=d3cfde203de9c80b7b1bab1e8e60ab91&units=Imperial&q=cape town\n",
      "Data Gathered for 3833367, ushuaia, http://api.openweathermap.org/data/2.5/weather?appid=d3cfde203de9c80b7b1bab1e8e60ab91&units=Imperial&q=ushuaia\n",
      "Data Gathered for 3985710, cabo san lucas, http://api.openweathermap.org/data/2.5/weather?appid=d3cfde203de9c80b7b1bab1e8e60ab91&units=Imperial&q=cabo san lucas\n",
      "Data Gathered for 6185377, yellowknife, http://api.openweathermap.org/data/2.5/weather?appid=d3cfde203de9c80b7b1bab1e8e60ab91&units=Imperial&q=yellowknife\n",
      "Data Gathered for 5106834, albany, http://api.openweathermap.org/data/2.5/weather?appid=d3cfde203de9c80b7b1bab1e8e60ab91&units=Imperial&q=albany\n",
      "Data Gathered for 5848280, kapaa, http://api.openweathermap.org/data/2.5/weather?appid=d3cfde203de9c80b7b1bab1e8e60ab91&units=Imperial&q=kapaa\n",
      "Data Gathered for 3685702, cravo norte, http://api.openweathermap.org/data/2.5/weather?appid=d3cfde203de9c80b7b1bab1e8e60ab91&units=Imperial&q=cravo norte\n",
      "Not Enough Info for halalo, wf\n",
      "Data Gathered for 362973, abnub, http://api.openweathermap.org/data/2.5/weather?appid=d3cfde203de9c80b7b1bab1e8e60ab91&units=Imperial&q=abnub\n",
      "Data Gathered for 217834, bukama, http://api.openweathermap.org/data/2.5/weather?appid=d3cfde203de9c80b7b1bab1e8e60ab91&units=Imperial&q=bukama\n",
      "Data Gathered for 2123814, leningradskiy, http://api.openweathermap.org/data/2.5/weather?appid=d3cfde203de9c80b7b1bab1e8e60ab91&units=Imperial&q=leningradskiy\n",
      "Data Gathered for 2027487, arkhara, http://api.openweathermap.org/data/2.5/weather?appid=d3cfde203de9c80b7b1bab1e8e60ab91&units=Imperial&q=arkhara\n",
      "Data Gathered for 1688687, san quintin, http://api.openweathermap.org/data/2.5/weather?appid=d3cfde203de9c80b7b1bab1e8e60ab91&units=Imperial&q=san quintin\n",
      "Data Gathered for 5915327, cap-aux-meules, http://api.openweathermap.org/data/2.5/weather?appid=d3cfde203de9c80b7b1bab1e8e60ab91&units=Imperial&q=cap-aux-meules\n",
      "Data Gathered for 3863379, mar del plata, http://api.openweathermap.org/data/2.5/weather?appid=d3cfde203de9c80b7b1bab1e8e60ab91&units=Imperial&q=mar del plata\n",
      "Data Gathered for 3652764, puerto ayora, http://api.openweathermap.org/data/2.5/weather?appid=d3cfde203de9c80b7b1bab1e8e60ab91&units=Imperial&q=puerto ayora\n",
      "Data Gathered for 4275070, marion, http://api.openweathermap.org/data/2.5/weather?appid=d3cfde203de9c80b7b1bab1e8e60ab91&units=Imperial&q=marion\n",
      "Data Gathered for 371745, kutum, http://api.openweathermap.org/data/2.5/weather?appid=d3cfde203de9c80b7b1bab1e8e60ab91&units=Imperial&q=kutum\n"
     ]
    },
    {
     "name": "stdout",
     "output_type": "stream",
     "text": [
      "Data Gathered for 2163355, hobart, http://api.openweathermap.org/data/2.5/weather?appid=d3cfde203de9c80b7b1bab1e8e60ab91&units=Imperial&q=hobart\n",
      "Data Gathered for 4030556, rikitea, http://api.openweathermap.org/data/2.5/weather?appid=d3cfde203de9c80b7b1bab1e8e60ab91&units=Imperial&q=rikitea\n",
      "Data Gathered for 3833367, ushuaia, http://api.openweathermap.org/data/2.5/weather?appid=d3cfde203de9c80b7b1bab1e8e60ab91&units=Imperial&q=ushuaia\n",
      "Data Gathered for 6201424, mataura, http://api.openweathermap.org/data/2.5/weather?appid=d3cfde203de9c80b7b1bab1e8e60ab91&units=Imperial&q=mataura\n",
      "Data Gathered for 2171465, clarence town, http://api.openweathermap.org/data/2.5/weather?appid=d3cfde203de9c80b7b1bab1e8e60ab91&units=Imperial&q=clarence town\n",
      "Data Gathered for 3453439, ponta do sol, http://api.openweathermap.org/data/2.5/weather?appid=d3cfde203de9c80b7b1bab1e8e60ab91&units=Imperial&q=ponta do sol\n",
      "Data Gathered for 2023333, kachug, http://api.openweathermap.org/data/2.5/weather?appid=d3cfde203de9c80b7b1bab1e8e60ab91&units=Imperial&q=kachug\n",
      "Data Gathered for 3833367, ushuaia, http://api.openweathermap.org/data/2.5/weather?appid=d3cfde203de9c80b7b1bab1e8e60ab91&units=Imperial&q=ushuaia\n",
      "Data Gathered for 2069194, jamestown, http://api.openweathermap.org/data/2.5/weather?appid=d3cfde203de9c80b7b1bab1e8e60ab91&units=Imperial&q=jamestown\n",
      "Data Gathered for 1507390, dikson, http://api.openweathermap.org/data/2.5/weather?appid=d3cfde203de9c80b7b1bab1e8e60ab91&units=Imperial&q=dikson\n",
      "Data Gathered for 3920736, chimore, http://api.openweathermap.org/data/2.5/weather?appid=d3cfde203de9c80b7b1bab1e8e60ab91&units=Imperial&q=chimore\n",
      "Data Gathered for 4501427, port elizabeth, http://api.openweathermap.org/data/2.5/weather?appid=d3cfde203de9c80b7b1bab1e8e60ab91&units=Imperial&q=port elizabeth\n",
      "Data Gathered for 3382160, cayenne, http://api.openweathermap.org/data/2.5/weather?appid=d3cfde203de9c80b7b1bab1e8e60ab91&units=Imperial&q=cayenne\n",
      "Data Gathered for 2175403, bluff, http://api.openweathermap.org/data/2.5/weather?appid=d3cfde203de9c80b7b1bab1e8e60ab91&units=Imperial&q=bluff\n",
      "Data Gathered for 157429, kilindoni, http://api.openweathermap.org/data/2.5/weather?appid=d3cfde203de9c80b7b1bab1e8e60ab91&units=Imperial&q=kilindoni\n",
      "Data Gathered for 5972291, havre-saint-pierre, http://api.openweathermap.org/data/2.5/weather?appid=d3cfde203de9c80b7b1bab1e8e60ab91&units=Imperial&q=havre-saint-pierre\n",
      "Data Gathered for 3386213, touros, http://api.openweathermap.org/data/2.5/weather?appid=d3cfde203de9c80b7b1bab1e8e60ab91&units=Imperial&q=touros\n",
      "Data Gathered for 2069194, jamestown, http://api.openweathermap.org/data/2.5/weather?appid=d3cfde203de9c80b7b1bab1e8e60ab91&units=Imperial&q=jamestown\n",
      "Data Gathered for 3688689, villa maria, http://api.openweathermap.org/data/2.5/weather?appid=d3cfde203de9c80b7b1bab1e8e60ab91&units=Imperial&q=villa maria\n",
      "Data Gathered for 5779548, payson, http://api.openweathermap.org/data/2.5/weather?appid=d3cfde203de9c80b7b1bab1e8e60ab91&units=Imperial&q=payson\n",
      "Data Gathered for 2110227, butaritari, http://api.openweathermap.org/data/2.5/weather?appid=d3cfde203de9c80b7b1bab1e8e60ab91&units=Imperial&q=butaritari\n",
      "Data Gathered for 3418910, upernavik, http://api.openweathermap.org/data/2.5/weather?appid=d3cfde203de9c80b7b1bab1e8e60ab91&units=Imperial&q=upernavik\n",
      "Data Gathered for 2018214, ovsyanka, http://api.openweathermap.org/data/2.5/weather?appid=d3cfde203de9c80b7b1bab1e8e60ab91&units=Imperial&q=ovsyanka\n",
      "Not Enough Info for mys shmidta, ru\n",
      "Data Gathered for 3652764, puerto ayora, http://api.openweathermap.org/data/2.5/weather?appid=d3cfde203de9c80b7b1bab1e8e60ab91&units=Imperial&q=puerto ayora\n",
      "Data Gathered for 3985710, cabo san lucas, http://api.openweathermap.org/data/2.5/weather?appid=d3cfde203de9c80b7b1bab1e8e60ab91&units=Imperial&q=cabo san lucas\n",
      "Data Gathered for 777682, skjervoy, http://api.openweathermap.org/data/2.5/weather?appid=d3cfde203de9c80b7b1bab1e8e60ab91&units=Imperial&q=skjervoy\n",
      "Data Gathered for 1152377, lat yao, http://api.openweathermap.org/data/2.5/weather?appid=d3cfde203de9c80b7b1bab1e8e60ab91&units=Imperial&q=lat yao\n",
      "Data Gathered for 4267710, sitka, http://api.openweathermap.org/data/2.5/weather?appid=d3cfde203de9c80b7b1bab1e8e60ab91&units=Imperial&q=sitka\n",
      "Data Gathered for 4036284, alofi, http://api.openweathermap.org/data/2.5/weather?appid=d3cfde203de9c80b7b1bab1e8e60ab91&units=Imperial&q=alofi\n",
      "Data Gathered for 964432, port alfred, http://api.openweathermap.org/data/2.5/weather?appid=d3cfde203de9c80b7b1bab1e8e60ab91&units=Imperial&q=port alfred\n",
      "Data Gathered for 3351014, camacupa, http://api.openweathermap.org/data/2.5/weather?appid=d3cfde203de9c80b7b1bab1e8e60ab91&units=Imperial&q=camacupa\n",
      "Data Gathered for 7671223, kloulklubed, http://api.openweathermap.org/data/2.5/weather?appid=d3cfde203de9c80b7b1bab1e8e60ab91&units=Imperial&q=kloulklubed\n",
      "Data Gathered for 6201424, mataura, http://api.openweathermap.org/data/2.5/weather?appid=d3cfde203de9c80b7b1bab1e8e60ab91&units=Imperial&q=mataura\n",
      "Data Gathered for 2517679, fortuna, http://api.openweathermap.org/data/2.5/weather?appid=d3cfde203de9c80b7b1bab1e8e60ab91&units=Imperial&q=fortuna\n",
      "Data Gathered for 1252783, yarada, http://api.openweathermap.org/data/2.5/weather?appid=d3cfde203de9c80b7b1bab1e8e60ab91&units=Imperial&q=yarada\n",
      "Data Gathered for 338554, dubti, http://api.openweathermap.org/data/2.5/weather?appid=d3cfde203de9c80b7b1bab1e8e60ab91&units=Imperial&q=dubti\n",
      "Data Gathered for 4035715, avarua, http://api.openweathermap.org/data/2.5/weather?appid=d3cfde203de9c80b7b1bab1e8e60ab91&units=Imperial&q=avarua\n",
      "Data Gathered for 2873499, mariental, http://api.openweathermap.org/data/2.5/weather?appid=d3cfde203de9c80b7b1bab1e8e60ab91&units=Imperial&q=mariental\n",
      "Not Enough Info for deh rawud, af\n",
      "Data Gathered for 1271891, fazilka, http://api.openweathermap.org/data/2.5/weather?appid=d3cfde203de9c80b7b1bab1e8e60ab91&units=Imperial&q=fazilka\n",
      "Data Gathered for 4020109, atuona, http://api.openweathermap.org/data/2.5/weather?appid=d3cfde203de9c80b7b1bab1e8e60ab91&units=Imperial&q=atuona\n",
      "Data Gathered for 1273574, vaini, http://api.openweathermap.org/data/2.5/weather?appid=d3cfde203de9c80b7b1bab1e8e60ab91&units=Imperial&q=vaini\n",
      "Data Gathered for 964432, port alfred, http://api.openweathermap.org/data/2.5/weather?appid=d3cfde203de9c80b7b1bab1e8e60ab91&units=Imperial&q=port alfred\n",
      "Data Gathered for 2075265, busselton, http://api.openweathermap.org/data/2.5/weather?appid=d3cfde203de9c80b7b1bab1e8e60ab91&units=Imperial&q=busselton\n",
      "Data Gathered for 1282256, hithadhoo, http://api.openweathermap.org/data/2.5/weather?appid=d3cfde203de9c80b7b1bab1e8e60ab91&units=Imperial&q=hithadhoo\n",
      "Data Gathered for 4020109, atuona, http://api.openweathermap.org/data/2.5/weather?appid=d3cfde203de9c80b7b1bab1e8e60ab91&units=Imperial&q=atuona\n",
      "Data Gathered for 1106677, bambous virieux, http://api.openweathermap.org/data/2.5/weather?appid=d3cfde203de9c80b7b1bab1e8e60ab91&units=Imperial&q=bambous virieux\n",
      "Data Gathered for 3833367, ushuaia, http://api.openweathermap.org/data/2.5/weather?appid=d3cfde203de9c80b7b1bab1e8e60ab91&units=Imperial&q=ushuaia\n",
      "Data Gathered for 3867427, mayor pablo lagerenza, http://api.openweathermap.org/data/2.5/weather?appid=d3cfde203de9c80b7b1bab1e8e60ab91&units=Imperial&q=mayor pablo lagerenza\n",
      "Data Gathered for 344979, lebu, http://api.openweathermap.org/data/2.5/weather?appid=d3cfde203de9c80b7b1bab1e8e60ab91&units=Imperial&q=lebu\n",
      "Data Gathered for 4557109, chambersburg, http://api.openweathermap.org/data/2.5/weather?appid=d3cfde203de9c80b7b1bab1e8e60ab91&units=Imperial&q=chambersburg\n",
      "Data Gathered for 3191648, zlobin, http://api.openweathermap.org/data/2.5/weather?appid=d3cfde203de9c80b7b1bab1e8e60ab91&units=Imperial&q=zlobin\n",
      "Data Gathered for 2729907, longyearbyen, http://api.openweathermap.org/data/2.5/weather?appid=d3cfde203de9c80b7b1bab1e8e60ab91&units=Imperial&q=longyearbyen\n",
      "Data Gathered for 4267710, sitka, http://api.openweathermap.org/data/2.5/weather?appid=d3cfde203de9c80b7b1bab1e8e60ab91&units=Imperial&q=sitka\n",
      "Data Gathered for 4470244, havelock, http://api.openweathermap.org/data/2.5/weather?appid=d3cfde203de9c80b7b1bab1e8e60ab91&units=Imperial&q=havelock\n",
      "Data Gathered for 2175403, bluff, http://api.openweathermap.org/data/2.5/weather?appid=d3cfde203de9c80b7b1bab1e8e60ab91&units=Imperial&q=bluff\n"
     ]
    },
    {
     "name": "stdout",
     "output_type": "stream",
     "text": [
      "Data Gathered for 3833859, barrow, http://api.openweathermap.org/data/2.5/weather?appid=d3cfde203de9c80b7b1bab1e8e60ab91&units=Imperial&q=barrow\n",
      "Data Gathered for 1733782, victoria, http://api.openweathermap.org/data/2.5/weather?appid=d3cfde203de9c80b7b1bab1e8e60ab91&units=Imperial&q=victoria\n",
      "Data Gathered for 3372707, ribeira grande, http://api.openweathermap.org/data/2.5/weather?appid=d3cfde203de9c80b7b1bab1e8e60ab91&units=Imperial&q=ribeira grande\n",
      "Data Gathered for 3521972, panaba, http://api.openweathermap.org/data/2.5/weather?appid=d3cfde203de9c80b7b1bab1e8e60ab91&units=Imperial&q=panaba\n",
      "Data Gathered for 2155415, new norfolk, http://api.openweathermap.org/data/2.5/weather?appid=d3cfde203de9c80b7b1bab1e8e60ab91&units=Imperial&q=new norfolk\n",
      "Not Enough Info for fatikchhari, bd\n",
      "Data Gathered for 3874787, punta arenas, http://api.openweathermap.org/data/2.5/weather?appid=d3cfde203de9c80b7b1bab1e8e60ab91&units=Imperial&q=punta arenas\n",
      "Data Gathered for 4372777, vardo, http://api.openweathermap.org/data/2.5/weather?appid=d3cfde203de9c80b7b1bab1e8e60ab91&units=Imperial&q=vardo\n",
      "Data Gathered for 1006984, east london, http://api.openweathermap.org/data/2.5/weather?appid=d3cfde203de9c80b7b1bab1e8e60ab91&units=Imperial&q=east london\n",
      "Data Gathered for 1507390, dikson, http://api.openweathermap.org/data/2.5/weather?appid=d3cfde203de9c80b7b1bab1e8e60ab91&units=Imperial&q=dikson\n",
      "Not Enough Info for meyungs, pw\n",
      "Data Gathered for 1576303, lao cai, http://api.openweathermap.org/data/2.5/weather?appid=d3cfde203de9c80b7b1bab1e8e60ab91&units=Imperial&q=lao cai\n",
      "Data Gathered for 3030057, brignoles, http://api.openweathermap.org/data/2.5/weather?appid=d3cfde203de9c80b7b1bab1e8e60ab91&units=Imperial&q=brignoles\n",
      "Data Gathered for 3421765, nanortalik, http://api.openweathermap.org/data/2.5/weather?appid=d3cfde203de9c80b7b1bab1e8e60ab91&units=Imperial&q=nanortalik\n",
      "Data Gathered for 5848280, kapaa, http://api.openweathermap.org/data/2.5/weather?appid=d3cfde203de9c80b7b1bab1e8e60ab91&units=Imperial&q=kapaa\n",
      "Data Gathered for 146639, lasa, http://api.openweathermap.org/data/2.5/weather?appid=d3cfde203de9c80b7b1bab1e8e60ab91&units=Imperial&q=lasa\n",
      "Data Gathered for 2022572, khatanga, http://api.openweathermap.org/data/2.5/weather?appid=d3cfde203de9c80b7b1bab1e8e60ab91&units=Imperial&q=khatanga\n",
      "Data Gathered for 3833367, ushuaia, http://api.openweathermap.org/data/2.5/weather?appid=d3cfde203de9c80b7b1bab1e8e60ab91&units=Imperial&q=ushuaia\n",
      "Data Gathered for 2075265, busselton, http://api.openweathermap.org/data/2.5/weather?appid=d3cfde203de9c80b7b1bab1e8e60ab91&units=Imperial&q=busselton\n",
      "Data Gathered for 2737599, saldanha, http://api.openweathermap.org/data/2.5/weather?appid=d3cfde203de9c80b7b1bab1e8e60ab91&units=Imperial&q=saldanha\n",
      "Data Gathered for 3874787, punta arenas, http://api.openweathermap.org/data/2.5/weather?appid=d3cfde203de9c80b7b1bab1e8e60ab91&units=Imperial&q=punta arenas\n",
      "Data Gathered for 3567869, banes, http://api.openweathermap.org/data/2.5/weather?appid=d3cfde203de9c80b7b1bab1e8e60ab91&units=Imperial&q=banes\n",
      "Data Gathered for 3421719, narsaq, http://api.openweathermap.org/data/2.5/weather?appid=d3cfde203de9c80b7b1bab1e8e60ab91&units=Imperial&q=narsaq\n",
      "Data Gathered for 6173361, vanderhoof, http://api.openweathermap.org/data/2.5/weather?appid=d3cfde203de9c80b7b1bab1e8e60ab91&units=Imperial&q=vanderhoof\n",
      "Data Gathered for 2175403, bluff, http://api.openweathermap.org/data/2.5/weather?appid=d3cfde203de9c80b7b1bab1e8e60ab91&units=Imperial&q=bluff\n",
      "Data Gathered for 990930, kimberley, http://api.openweathermap.org/data/2.5/weather?appid=d3cfde203de9c80b7b1bab1e8e60ab91&units=Imperial&q=kimberley\n",
      "Data Gathered for 1337612, dhidhdhoo, http://api.openweathermap.org/data/2.5/weather?appid=d3cfde203de9c80b7b1bab1e8e60ab91&units=Imperial&q=dhidhdhoo\n",
      "Data Gathered for 5106834, albany, http://api.openweathermap.org/data/2.5/weather?appid=d3cfde203de9c80b7b1bab1e8e60ab91&units=Imperial&q=albany\n",
      "Data Gathered for 5301067, kingman, http://api.openweathermap.org/data/2.5/weather?appid=d3cfde203de9c80b7b1bab1e8e60ab91&units=Imperial&q=kingman\n",
      "Data Gathered for 2075265, busselton, http://api.openweathermap.org/data/2.5/weather?appid=d3cfde203de9c80b7b1bab1e8e60ab91&units=Imperial&q=busselton\n",
      "Not Enough Info for lolua, tv\n",
      "Data Gathered for 3833367, ushuaia, http://api.openweathermap.org/data/2.5/weather?appid=d3cfde203de9c80b7b1bab1e8e60ab91&units=Imperial&q=ushuaia\n",
      "Data Gathered for 515175, oparino, http://api.openweathermap.org/data/2.5/weather?appid=d3cfde203de9c80b7b1bab1e8e60ab91&units=Imperial&q=oparino\n",
      "Data Gathered for 2180815, tuatapere, http://api.openweathermap.org/data/2.5/weather?appid=d3cfde203de9c80b7b1bab1e8e60ab91&units=Imperial&q=tuatapere\n",
      "Not Enough Info for nizhneyansk, ru\n",
      "Data Gathered for 866062, iskateley, http://api.openweathermap.org/data/2.5/weather?appid=d3cfde203de9c80b7b1bab1e8e60ab91&units=Imperial&q=iskateley\n",
      "Data Gathered for 2122783, nogliki, http://api.openweathermap.org/data/2.5/weather?appid=d3cfde203de9c80b7b1bab1e8e60ab91&units=Imperial&q=nogliki\n",
      "Data Gathered for 3369157, cape town, http://api.openweathermap.org/data/2.5/weather?appid=d3cfde203de9c80b7b1bab1e8e60ab91&units=Imperial&q=cape town\n",
      "Data Gathered for 1688696, san policarpo, http://api.openweathermap.org/data/2.5/weather?appid=d3cfde203de9c80b7b1bab1e8e60ab91&units=Imperial&q=san policarpo\n",
      "Data Gathered for 2163355, hobart, http://api.openweathermap.org/data/2.5/weather?appid=d3cfde203de9c80b7b1bab1e8e60ab91&units=Imperial&q=hobart\n",
      "Data Gathered for 6078372, moose factory, http://api.openweathermap.org/data/2.5/weather?appid=d3cfde203de9c80b7b1bab1e8e60ab91&units=Imperial&q=moose factory\n",
      "Data Gathered for 3874787, punta arenas, http://api.openweathermap.org/data/2.5/weather?appid=d3cfde203de9c80b7b1bab1e8e60ab91&units=Imperial&q=punta arenas\n",
      "Data Gathered for 3985710, cabo san lucas, http://api.openweathermap.org/data/2.5/weather?appid=d3cfde203de9c80b7b1bab1e8e60ab91&units=Imperial&q=cabo san lucas\n",
      "Data Gathered for 2344082, george, http://api.openweathermap.org/data/2.5/weather?appid=d3cfde203de9c80b7b1bab1e8e60ab91&units=Imperial&q=george\n",
      "Data Gathered for 5855927, hilo, http://api.openweathermap.org/data/2.5/weather?appid=d3cfde203de9c80b7b1bab1e8e60ab91&units=Imperial&q=hilo\n",
      "Data Gathered for 2092164, lorengau, http://api.openweathermap.org/data/2.5/weather?appid=d3cfde203de9c80b7b1bab1e8e60ab91&units=Imperial&q=lorengau\n",
      "Not Enough Info for tsihombe, mg\n",
      "Data Gathered for 3378644, georgetown, http://api.openweathermap.org/data/2.5/weather?appid=d3cfde203de9c80b7b1bab1e8e60ab91&units=Imperial&q=georgetown\n",
      "Data Gathered for 3420768, qasigiannguit, http://api.openweathermap.org/data/2.5/weather?appid=d3cfde203de9c80b7b1bab1e8e60ab91&units=Imperial&q=qasigiannguit\n",
      "Data Gathered for 3355624, maltahohe, http://api.openweathermap.org/data/2.5/weather?appid=d3cfde203de9c80b7b1bab1e8e60ab91&units=Imperial&q=maltahohe\n",
      "Data Gathered for 3356343, karasburg, http://api.openweathermap.org/data/2.5/weather?appid=d3cfde203de9c80b7b1bab1e8e60ab91&units=Imperial&q=karasburg\n",
      "Data Gathered for 2075265, busselton, http://api.openweathermap.org/data/2.5/weather?appid=d3cfde203de9c80b7b1bab1e8e60ab91&units=Imperial&q=busselton\n",
      "Not Enough Info for bairiki, ki\n",
      "Data Gathered for 3369157, cape town, http://api.openweathermap.org/data/2.5/weather?appid=d3cfde203de9c80b7b1bab1e8e60ab91&units=Imperial&q=cape town\n",
      "Data Gathered for 2126710, beringovskiy, http://api.openweathermap.org/data/2.5/weather?appid=d3cfde203de9c80b7b1bab1e8e60ab91&units=Imperial&q=beringovskiy\n",
      "Data Gathered for 3105522, bereda, http://api.openweathermap.org/data/2.5/weather?appid=d3cfde203de9c80b7b1bab1e8e60ab91&units=Imperial&q=bereda\n",
      "Data Gathered for 2077895, alice springs, http://api.openweathermap.org/data/2.5/weather?appid=d3cfde203de9c80b7b1bab1e8e60ab91&units=Imperial&q=alice springs\n",
      "Data Gathered for 2121025, srednekolymsk, http://api.openweathermap.org/data/2.5/weather?appid=d3cfde203de9c80b7b1bab1e8e60ab91&units=Imperial&q=srednekolymsk\n",
      "Data Gathered for 2136825, isangel, http://api.openweathermap.org/data/2.5/weather?appid=d3cfde203de9c80b7b1bab1e8e60ab91&units=Imperial&q=isangel\n",
      "Data Gathered for 5106834, albany, http://api.openweathermap.org/data/2.5/weather?appid=d3cfde203de9c80b7b1bab1e8e60ab91&units=Imperial&q=albany\n"
     ]
    },
    {
     "name": "stdout",
     "output_type": "stream",
     "text": [
      "Data Gathered for 2136825, isangel, http://api.openweathermap.org/data/2.5/weather?appid=d3cfde203de9c80b7b1bab1e8e60ab91&units=Imperial&q=isangel\n",
      "Data Gathered for 3833367, ushuaia, http://api.openweathermap.org/data/2.5/weather?appid=d3cfde203de9c80b7b1bab1e8e60ab91&units=Imperial&q=ushuaia\n",
      "Data Gathered for 1254046, tura, http://api.openweathermap.org/data/2.5/weather?appid=d3cfde203de9c80b7b1bab1e8e60ab91&units=Imperial&q=tura\n",
      "Not Enough Info for tapaua, br\n",
      "Data Gathered for 2172880, byron bay, http://api.openweathermap.org/data/2.5/weather?appid=d3cfde203de9c80b7b1bab1e8e60ab91&units=Imperial&q=byron bay\n",
      "Data Gathered for 344979, lebu, http://api.openweathermap.org/data/2.5/weather?appid=d3cfde203de9c80b7b1bab1e8e60ab91&units=Imperial&q=lebu\n",
      "Not Enough Info for barentsburg, sj\n",
      "Data Gathered for 3833367, ushuaia, http://api.openweathermap.org/data/2.5/weather?appid=d3cfde203de9c80b7b1bab1e8e60ab91&units=Imperial&q=ushuaia\n",
      "Data Gathered for 3015546, gourdon, http://api.openweathermap.org/data/2.5/weather?appid=d3cfde203de9c80b7b1bab1e8e60ab91&units=Imperial&q=gourdon\n",
      "Data Gathered for 1528998, yumen, http://api.openweathermap.org/data/2.5/weather?appid=d3cfde203de9c80b7b1bab1e8e60ab91&units=Imperial&q=yumen\n",
      "Data Gathered for 2121385, severo-kurilsk, http://api.openweathermap.org/data/2.5/weather?appid=d3cfde203de9c80b7b1bab1e8e60ab91&units=Imperial&q=severo-kurilsk\n",
      "Data Gathered for 3366880, hermanus, http://api.openweathermap.org/data/2.5/weather?appid=d3cfde203de9c80b7b1bab1e8e60ab91&units=Imperial&q=hermanus\n",
      "Data Gathered for 3369157, cape town, http://api.openweathermap.org/data/2.5/weather?appid=d3cfde203de9c80b7b1bab1e8e60ab91&units=Imperial&q=cape town\n",
      "Data Gathered for 3833367, ushuaia, http://api.openweathermap.org/data/2.5/weather?appid=d3cfde203de9c80b7b1bab1e8e60ab91&units=Imperial&q=ushuaia\n",
      "Not Enough Info for hakvik, no\n",
      "Not Enough Info for louisbourg, ca\n",
      "Data Gathered for 2163355, hobart, http://api.openweathermap.org/data/2.5/weather?appid=d3cfde203de9c80b7b1bab1e8e60ab91&units=Imperial&q=hobart\n",
      "Data Gathered for 587450, juba, http://api.openweathermap.org/data/2.5/weather?appid=d3cfde203de9c80b7b1bab1e8e60ab91&units=Imperial&q=juba\n",
      "Data Gathered for 3440777, rocha, http://api.openweathermap.org/data/2.5/weather?appid=d3cfde203de9c80b7b1bab1e8e60ab91&units=Imperial&q=rocha\n",
      "Data Gathered for 3896218, castro, http://api.openweathermap.org/data/2.5/weather?appid=d3cfde203de9c80b7b1bab1e8e60ab91&units=Imperial&q=castro\n",
      "Data Gathered for 5848280, kapaa, http://api.openweathermap.org/data/2.5/weather?appid=d3cfde203de9c80b7b1bab1e8e60ab91&units=Imperial&q=kapaa\n",
      "Data Gathered for 3471451, arraial do cabo, http://api.openweathermap.org/data/2.5/weather?appid=d3cfde203de9c80b7b1bab1e8e60ab91&units=Imperial&q=arraial do cabo\n",
      "Data Gathered for 6201424, mataura, http://api.openweathermap.org/data/2.5/weather?appid=d3cfde203de9c80b7b1bab1e8e60ab91&units=Imperial&q=mataura\n",
      "Data Gathered for 1706889, puro, http://api.openweathermap.org/data/2.5/weather?appid=d3cfde203de9c80b7b1bab1e8e60ab91&units=Imperial&q=puro\n",
      "Data Gathered for 3833367, ushuaia, http://api.openweathermap.org/data/2.5/weather?appid=d3cfde203de9c80b7b1bab1e8e60ab91&units=Imperial&q=ushuaia\n",
      "Data Gathered for 3366880, hermanus, http://api.openweathermap.org/data/2.5/weather?appid=d3cfde203de9c80b7b1bab1e8e60ab91&units=Imperial&q=hermanus\n",
      "Data Gathered for 5106834, albany, http://api.openweathermap.org/data/2.5/weather?appid=d3cfde203de9c80b7b1bab1e8e60ab91&units=Imperial&q=albany\n",
      "Data Gathered for 3369157, cape town, http://api.openweathermap.org/data/2.5/weather?appid=d3cfde203de9c80b7b1bab1e8e60ab91&units=Imperial&q=cape town\n",
      "Data Gathered for 3451241, rio brilhante, http://api.openweathermap.org/data/2.5/weather?appid=d3cfde203de9c80b7b1bab1e8e60ab91&units=Imperial&q=rio brilhante\n",
      "Data Gathered for 4030556, rikitea, http://api.openweathermap.org/data/2.5/weather?appid=d3cfde203de9c80b7b1bab1e8e60ab91&units=Imperial&q=rikitea\n",
      "Data Gathered for 1848373, fukue, http://api.openweathermap.org/data/2.5/weather?appid=d3cfde203de9c80b7b1bab1e8e60ab91&units=Imperial&q=fukue\n",
      "Data Gathered for 2163355, hobart, http://api.openweathermap.org/data/2.5/weather?appid=d3cfde203de9c80b7b1bab1e8e60ab91&units=Imperial&q=hobart\n",
      "Data Gathered for 2022572, khatanga, http://api.openweathermap.org/data/2.5/weather?appid=d3cfde203de9c80b7b1bab1e8e60ab91&units=Imperial&q=khatanga\n",
      "Data Gathered for 6165406, thompson, http://api.openweathermap.org/data/2.5/weather?appid=d3cfde203de9c80b7b1bab1e8e60ab91&units=Imperial&q=thompson\n",
      "Data Gathered for 5380437, pacific grove, http://api.openweathermap.org/data/2.5/weather?appid=d3cfde203de9c80b7b1bab1e8e60ab91&units=Imperial&q=pacific grove\n",
      "Data Gathered for 1661950, ban nahin, http://api.openweathermap.org/data/2.5/weather?appid=d3cfde203de9c80b7b1bab1e8e60ab91&units=Imperial&q=ban nahin\n",
      "Data Gathered for 3874787, punta arenas, http://api.openweathermap.org/data/2.5/weather?appid=d3cfde203de9c80b7b1bab1e8e60ab91&units=Imperial&q=punta arenas\n",
      "Data Gathered for 3381538, grand-santi, http://api.openweathermap.org/data/2.5/weather?appid=d3cfde203de9c80b7b1bab1e8e60ab91&units=Imperial&q=grand-santi\n",
      "Data Gathered for 1865309, katsuura, http://api.openweathermap.org/data/2.5/weather?appid=d3cfde203de9c80b7b1bab1e8e60ab91&units=Imperial&q=katsuura\n",
      "Not Enough Info for taolanaro, mg\n",
      "Data Gathered for 2069194, jamestown, http://api.openweathermap.org/data/2.5/weather?appid=d3cfde203de9c80b7b1bab1e8e60ab91&units=Imperial&q=jamestown\n",
      "Data Gathered for 3833367, ushuaia, http://api.openweathermap.org/data/2.5/weather?appid=d3cfde203de9c80b7b1bab1e8e60ab91&units=Imperial&q=ushuaia\n",
      "Data Gathered for 5848280, kapaa, http://api.openweathermap.org/data/2.5/weather?appid=d3cfde203de9c80b7b1bab1e8e60ab91&units=Imperial&q=kapaa\n",
      "Data Gathered for 4020109, atuona, http://api.openweathermap.org/data/2.5/weather?appid=d3cfde203de9c80b7b1bab1e8e60ab91&units=Imperial&q=atuona\n",
      "Data Gathered for 2155415, new norfolk, http://api.openweathermap.org/data/2.5/weather?appid=d3cfde203de9c80b7b1bab1e8e60ab91&units=Imperial&q=new norfolk\n",
      "Data Gathered for 6167817, torbay, http://api.openweathermap.org/data/2.5/weather?appid=d3cfde203de9c80b7b1bab1e8e60ab91&units=Imperial&q=torbay\n",
      "Data Gathered for 1496421, krasnomayskiy, http://api.openweathermap.org/data/2.5/weather?appid=d3cfde203de9c80b7b1bab1e8e60ab91&units=Imperial&q=krasnomayskiy\n",
      "Data Gathered for 2069194, jamestown, http://api.openweathermap.org/data/2.5/weather?appid=d3cfde203de9c80b7b1bab1e8e60ab91&units=Imperial&q=jamestown\n",
      "Not Enough Info for attawapiskat, ca\n",
      "Data Gathered for 2013279, vostok, http://api.openweathermap.org/data/2.5/weather?appid=d3cfde203de9c80b7b1bab1e8e60ab91&units=Imperial&q=vostok\n",
      "Not Enough Info for bengkulu, id\n",
      "Data Gathered for 3932145, pisco, http://api.openweathermap.org/data/2.5/weather?appid=d3cfde203de9c80b7b1bab1e8e60ab91&units=Imperial&q=pisco\n",
      "Data Gathered for 2618795, klaksvik, http://api.openweathermap.org/data/2.5/weather?appid=d3cfde203de9c80b7b1bab1e8e60ab91&units=Imperial&q=klaksvik\n",
      "Data Gathered for 5919850, chapais, http://api.openweathermap.org/data/2.5/weather?appid=d3cfde203de9c80b7b1bab1e8e60ab91&units=Imperial&q=chapais\n",
      "Data Gathered for 1514792, gazojak, http://api.openweathermap.org/data/2.5/weather?appid=d3cfde203de9c80b7b1bab1e8e60ab91&units=Imperial&q=gazojak\n",
      "Data Gathered for 2180815, tuatapere, http://api.openweathermap.org/data/2.5/weather?appid=d3cfde203de9c80b7b1bab1e8e60ab91&units=Imperial&q=tuatapere\n",
      "Data Gathered for 5379439, ontario, http://api.openweathermap.org/data/2.5/weather?appid=d3cfde203de9c80b7b1bab1e8e60ab91&units=Imperial&q=ontario\n",
      "Data Gathered for 262462, saint george, http://api.openweathermap.org/data/2.5/weather?appid=d3cfde203de9c80b7b1bab1e8e60ab91&units=Imperial&q=saint george\n",
      "Data Gathered for 3833367, ushuaia, http://api.openweathermap.org/data/2.5/weather?appid=d3cfde203de9c80b7b1bab1e8e60ab91&units=Imperial&q=ushuaia\n",
      "Data Gathered for 3833367, ushuaia, http://api.openweathermap.org/data/2.5/weather?appid=d3cfde203de9c80b7b1bab1e8e60ab91&units=Imperial&q=ushuaia\n",
      "Data Gathered for 6148373, sioux lookout, http://api.openweathermap.org/data/2.5/weather?appid=d3cfde203de9c80b7b1bab1e8e60ab91&units=Imperial&q=sioux lookout\n"
     ]
    },
    {
     "name": "stdout",
     "output_type": "stream",
     "text": [
      "Data Gathered for 2194098, ahipara, http://api.openweathermap.org/data/2.5/weather?appid=d3cfde203de9c80b7b1bab1e8e60ab91&units=Imperial&q=ahipara\n",
      "Data Gathered for 294117, avdon, http://api.openweathermap.org/data/2.5/weather?appid=d3cfde203de9c80b7b1bab1e8e60ab91&units=Imperial&q=avdon\n",
      "Not Enough Info for belushya guba, ru\n",
      "Data Gathered for 1855476, kushima, http://api.openweathermap.org/data/2.5/weather?appid=d3cfde203de9c80b7b1bab1e8e60ab91&units=Imperial&q=kushima\n",
      "Data Gathered for 4470244, havelock, http://api.openweathermap.org/data/2.5/weather?appid=d3cfde203de9c80b7b1bab1e8e60ab91&units=Imperial&q=havelock\n",
      "Data Gathered for 6165406, thompson, http://api.openweathermap.org/data/2.5/weather?appid=d3cfde203de9c80b7b1bab1e8e60ab91&units=Imperial&q=thompson\n",
      "Data Gathered for 934322, mahebourg, http://api.openweathermap.org/data/2.5/weather?appid=d3cfde203de9c80b7b1bab1e8e60ab91&units=Imperial&q=mahebourg\n",
      "Data Gathered for 2169535, dalby, http://api.openweathermap.org/data/2.5/weather?appid=d3cfde203de9c80b7b1bab1e8e60ab91&units=Imperial&q=dalby\n",
      "Not Enough Info for belushya guba, ru\n",
      "Data Gathered for 4030556, rikitea, http://api.openweathermap.org/data/2.5/weather?appid=d3cfde203de9c80b7b1bab1e8e60ab91&units=Imperial&q=rikitea\n",
      "Data Gathered for 5919850, chapais, http://api.openweathermap.org/data/2.5/weather?appid=d3cfde203de9c80b7b1bab1e8e60ab91&units=Imperial&q=chapais\n",
      "Data Gathered for 3421319, nuuk, http://api.openweathermap.org/data/2.5/weather?appid=d3cfde203de9c80b7b1bab1e8e60ab91&units=Imperial&q=nuuk\n",
      "Data Gathered for 2180815, tuatapere, http://api.openweathermap.org/data/2.5/weather?appid=d3cfde203de9c80b7b1bab1e8e60ab91&units=Imperial&q=tuatapere\n",
      "Data Gathered for 5989403, kapuskasing, http://api.openweathermap.org/data/2.5/weather?appid=d3cfde203de9c80b7b1bab1e8e60ab91&units=Imperial&q=kapuskasing\n",
      "Not Enough Info for bantry, ie\n",
      "Data Gathered for 3423146, ilulissat, http://api.openweathermap.org/data/2.5/weather?appid=d3cfde203de9c80b7b1bab1e8e60ab91&units=Imperial&q=ilulissat\n",
      "Data Gathered for 3833367, ushuaia, http://api.openweathermap.org/data/2.5/weather?appid=d3cfde203de9c80b7b1bab1e8e60ab91&units=Imperial&q=ushuaia\n",
      "Data Gathered for 6201424, mataura, http://api.openweathermap.org/data/2.5/weather?appid=d3cfde203de9c80b7b1bab1e8e60ab91&units=Imperial&q=mataura\n",
      "Data Gathered for 2158744, margate, http://api.openweathermap.org/data/2.5/weather?appid=d3cfde203de9c80b7b1bab1e8e60ab91&units=Imperial&q=margate\n",
      "Data Gathered for 5855927, hilo, http://api.openweathermap.org/data/2.5/weather?appid=d3cfde203de9c80b7b1bab1e8e60ab91&units=Imperial&q=hilo\n",
      "Data Gathered for 2075265, busselton, http://api.openweathermap.org/data/2.5/weather?appid=d3cfde203de9c80b7b1bab1e8e60ab91&units=Imperial&q=busselton\n",
      "Data Gathered for 3874787, punta arenas, http://api.openweathermap.org/data/2.5/weather?appid=d3cfde203de9c80b7b1bab1e8e60ab91&units=Imperial&q=punta arenas\n",
      "Not Enough Info for barentsburg, sj\n",
      "Data Gathered for 3451138, rio grande, http://api.openweathermap.org/data/2.5/weather?appid=d3cfde203de9c80b7b1bab1e8e60ab91&units=Imperial&q=rio grande\n",
      "Data Gathered for 1242110, kalmunai, http://api.openweathermap.org/data/2.5/weather?appid=d3cfde203de9c80b7b1bab1e8e60ab91&units=Imperial&q=kalmunai\n",
      "Data Gathered for 1714733, dingle, http://api.openweathermap.org/data/2.5/weather?appid=d3cfde203de9c80b7b1bab1e8e60ab91&units=Imperial&q=dingle\n",
      "Data Gathered for 2069194, jamestown, http://api.openweathermap.org/data/2.5/weather?appid=d3cfde203de9c80b7b1bab1e8e60ab91&units=Imperial&q=jamestown\n",
      "Data Gathered for 964432, port alfred, http://api.openweathermap.org/data/2.5/weather?appid=d3cfde203de9c80b7b1bab1e8e60ab91&units=Imperial&q=port alfred\n",
      "Data Gathered for 1691355, sabang, http://api.openweathermap.org/data/2.5/weather?appid=d3cfde203de9c80b7b1bab1e8e60ab91&units=Imperial&q=sabang\n",
      "Data Gathered for 2026160, borogontsy, http://api.openweathermap.org/data/2.5/weather?appid=d3cfde203de9c80b7b1bab1e8e60ab91&units=Imperial&q=borogontsy\n",
      "Data Gathered for 2180815, tuatapere, http://api.openweathermap.org/data/2.5/weather?appid=d3cfde203de9c80b7b1bab1e8e60ab91&units=Imperial&q=tuatapere\n",
      "Data Gathered for 240498, mongo, http://api.openweathermap.org/data/2.5/weather?appid=d3cfde203de9c80b7b1bab1e8e60ab91&units=Imperial&q=mongo\n",
      "Not Enough Info for nizhneyansk, ru\n",
      "Data Gathered for 3421719, narsaq, http://api.openweathermap.org/data/2.5/weather?appid=d3cfde203de9c80b7b1bab1e8e60ab91&units=Imperial&q=narsaq\n",
      "Not Enough Info for taolanaro, mg\n",
      "Data Gathered for 1637001, biak, http://api.openweathermap.org/data/2.5/weather?appid=d3cfde203de9c80b7b1bab1e8e60ab91&units=Imperial&q=biak\n",
      "Data Gathered for 2036892, hohhot, http://api.openweathermap.org/data/2.5/weather?appid=d3cfde203de9c80b7b1bab1e8e60ab91&units=Imperial&q=hohhot\n",
      "Data Gathered for 3471451, arraial do cabo, http://api.openweathermap.org/data/2.5/weather?appid=d3cfde203de9c80b7b1bab1e8e60ab91&units=Imperial&q=arraial do cabo\n",
      "Data Gathered for 72181, marzuq, http://api.openweathermap.org/data/2.5/weather?appid=d3cfde203de9c80b7b1bab1e8e60ab91&units=Imperial&q=marzuq\n",
      "Data Gathered for 2017155, saskylakh, http://api.openweathermap.org/data/2.5/weather?appid=d3cfde203de9c80b7b1bab1e8e60ab91&units=Imperial&q=saskylakh\n",
      "Data Gathered for 2110227, butaritari, http://api.openweathermap.org/data/2.5/weather?appid=d3cfde203de9c80b7b1bab1e8e60ab91&units=Imperial&q=butaritari\n",
      "Not Enough Info for mahadday weyne, so\n",
      "Data Gathered for 1735634, kuching, http://api.openweathermap.org/data/2.5/weather?appid=d3cfde203de9c80b7b1bab1e8e60ab91&units=Imperial&q=kuching\n",
      "Data Gathered for 5961417, gimli, http://api.openweathermap.org/data/2.5/weather?appid=d3cfde203de9c80b7b1bab1e8e60ab91&units=Imperial&q=gimli\n",
      "Data Gathered for 5380420, pacifica, http://api.openweathermap.org/data/2.5/weather?appid=d3cfde203de9c80b7b1bab1e8e60ab91&units=Imperial&q=pacifica\n",
      "Data Gathered for 2122090, pevek, http://api.openweathermap.org/data/2.5/weather?appid=d3cfde203de9c80b7b1bab1e8e60ab91&units=Imperial&q=pevek\n",
      "Data Gathered for 5961417, husavik, http://api.openweathermap.org/data/2.5/weather?appid=d3cfde203de9c80b7b1bab1e8e60ab91&units=Imperial&q=husavik\n",
      "Data Gathered for 3374210, sao filipe, http://api.openweathermap.org/data/2.5/weather?appid=d3cfde203de9c80b7b1bab1e8e60ab91&units=Imperial&q=sao filipe\n",
      "Data Gathered for 262462, saint george, http://api.openweathermap.org/data/2.5/weather?appid=d3cfde203de9c80b7b1bab1e8e60ab91&units=Imperial&q=saint george\n",
      "Data Gathered for 3403251, canto do buriti, http://api.openweathermap.org/data/2.5/weather?appid=d3cfde203de9c80b7b1bab1e8e60ab91&units=Imperial&q=canto do buriti\n",
      "Data Gathered for 3874787, punta arenas, http://api.openweathermap.org/data/2.5/weather?appid=d3cfde203de9c80b7b1bab1e8e60ab91&units=Imperial&q=punta arenas\n",
      "Not Enough Info for louisbourg, ca\n",
      "Data Gathered for 3530097, champerico, http://api.openweathermap.org/data/2.5/weather?appid=d3cfde203de9c80b7b1bab1e8e60ab91&units=Imperial&q=champerico\n",
      "Data Gathered for 1624725, tarakan, http://api.openweathermap.org/data/2.5/weather?appid=d3cfde203de9c80b7b1bab1e8e60ab91&units=Imperial&q=tarakan\n",
      "Data Gathered for 2175403, bluff, http://api.openweathermap.org/data/2.5/weather?appid=d3cfde203de9c80b7b1bab1e8e60ab91&units=Imperial&q=bluff\n",
      "Data Gathered for 3833367, ushuaia, http://api.openweathermap.org/data/2.5/weather?appid=d3cfde203de9c80b7b1bab1e8e60ab91&units=Imperial&q=ushuaia\n",
      "Data Gathered for 2517679, fortuna, http://api.openweathermap.org/data/2.5/weather?appid=d3cfde203de9c80b7b1bab1e8e60ab91&units=Imperial&q=fortuna\n",
      "Data Gathered for 3369157, cape town, http://api.openweathermap.org/data/2.5/weather?appid=d3cfde203de9c80b7b1bab1e8e60ab91&units=Imperial&q=cape town\n",
      "Data Gathered for 296852, erzin, http://api.openweathermap.org/data/2.5/weather?appid=d3cfde203de9c80b7b1bab1e8e60ab91&units=Imperial&q=erzin\n",
      "Data Gathered for 3530097, champerico, http://api.openweathermap.org/data/2.5/weather?appid=d3cfde203de9c80b7b1bab1e8e60ab91&units=Imperial&q=champerico\n",
      "Data Gathered for 3378644, georgetown, http://api.openweathermap.org/data/2.5/weather?appid=d3cfde203de9c80b7b1bab1e8e60ab91&units=Imperial&q=georgetown\n",
      "Data Gathered for 4004293, ixtapa, http://api.openweathermap.org/data/2.5/weather?appid=d3cfde203de9c80b7b1bab1e8e60ab91&units=Imperial&q=ixtapa\n",
      "Data Gathered for 1006984, east london, http://api.openweathermap.org/data/2.5/weather?appid=d3cfde203de9c80b7b1bab1e8e60ab91&units=Imperial&q=east london\n"
     ]
    },
    {
     "name": "stdout",
     "output_type": "stream",
     "text": [
      "Data Gathered for 220448, aketi, http://api.openweathermap.org/data/2.5/weather?appid=d3cfde203de9c80b7b1bab1e8e60ab91&units=Imperial&q=aketi\n",
      "Data Gathered for 6201424, mataura, http://api.openweathermap.org/data/2.5/weather?appid=d3cfde203de9c80b7b1bab1e8e60ab91&units=Imperial&q=mataura\n",
      "Data Gathered for 608324, shetpe, http://api.openweathermap.org/data/2.5/weather?appid=d3cfde203de9c80b7b1bab1e8e60ab91&units=Imperial&q=shetpe\n",
      "Data Gathered for 3369157, cape town, http://api.openweathermap.org/data/2.5/weather?appid=d3cfde203de9c80b7b1bab1e8e60ab91&units=Imperial&q=cape town\n",
      "Data Gathered for 3833367, ushuaia, http://api.openweathermap.org/data/2.5/weather?appid=d3cfde203de9c80b7b1bab1e8e60ab91&units=Imperial&q=ushuaia\n",
      "Not Enough Info for nizhneyansk, ru\n",
      "Data Gathered for 2340451, gombe, http://api.openweathermap.org/data/2.5/weather?appid=d3cfde203de9c80b7b1bab1e8e60ab91&units=Imperial&q=gombe\n",
      "Data Gathered for 2027042, batagay-alyta, http://api.openweathermap.org/data/2.5/weather?appid=d3cfde203de9c80b7b1bab1e8e60ab91&units=Imperial&q=batagay-alyta\n",
      "Data Gathered for 1273574, vaini, http://api.openweathermap.org/data/2.5/weather?appid=d3cfde203de9c80b7b1bab1e8e60ab91&units=Imperial&q=vaini\n",
      "Data Gathered for 3424607, tasiilaq, http://api.openweathermap.org/data/2.5/weather?appid=d3cfde203de9c80b7b1bab1e8e60ab91&units=Imperial&q=tasiilaq\n",
      "Data Gathered for 858701, shamilkala, http://api.openweathermap.org/data/2.5/weather?appid=d3cfde203de9c80b7b1bab1e8e60ab91&units=Imperial&q=shamilkala\n",
      "Data Gathered for 1651810, airai, http://api.openweathermap.org/data/2.5/weather?appid=d3cfde203de9c80b7b1bab1e8e60ab91&units=Imperial&q=airai\n",
      "Data Gathered for 2160063, codrington, http://api.openweathermap.org/data/2.5/weather?appid=d3cfde203de9c80b7b1bab1e8e60ab91&units=Imperial&q=codrington\n",
      "Data Gathered for 1852357, shimoda, http://api.openweathermap.org/data/2.5/weather?appid=d3cfde203de9c80b7b1bab1e8e60ab91&units=Imperial&q=shimoda\n",
      "Data Gathered for 231947, katakwi, http://api.openweathermap.org/data/2.5/weather?appid=d3cfde203de9c80b7b1bab1e8e60ab91&units=Imperial&q=katakwi\n",
      "Data Gathered for 154097, mgandu, http://api.openweathermap.org/data/2.5/weather?appid=d3cfde203de9c80b7b1bab1e8e60ab91&units=Imperial&q=mgandu\n",
      "Not Enough Info for illoqqortoormiut, gl\n",
      "Data Gathered for 3874787, punta arenas, http://api.openweathermap.org/data/2.5/weather?appid=d3cfde203de9c80b7b1bab1e8e60ab91&units=Imperial&q=punta arenas\n",
      "Data Gathered for 6144312, sept-iles, http://api.openweathermap.org/data/2.5/weather?appid=d3cfde203de9c80b7b1bab1e8e60ab91&units=Imperial&q=sept-iles\n",
      "Data Gathered for 6185377, yellowknife, http://api.openweathermap.org/data/2.5/weather?appid=d3cfde203de9c80b7b1bab1e8e60ab91&units=Imperial&q=yellowknife\n",
      "Data Gathered for 5960603, geraldton, http://api.openweathermap.org/data/2.5/weather?appid=d3cfde203de9c80b7b1bab1e8e60ab91&units=Imperial&q=geraldton\n",
      "Data Gathered for 2017155, saskylakh, http://api.openweathermap.org/data/2.5/weather?appid=d3cfde203de9c80b7b1bab1e8e60ab91&units=Imperial&q=saskylakh\n",
      "Data Gathered for 3378644, georgetown, http://api.openweathermap.org/data/2.5/weather?appid=d3cfde203de9c80b7b1bab1e8e60ab91&units=Imperial&q=georgetown\n",
      "Data Gathered for 5106834, albany, http://api.openweathermap.org/data/2.5/weather?appid=d3cfde203de9c80b7b1bab1e8e60ab91&units=Imperial&q=albany\n",
      "Data Gathered for 5106834, albany, http://api.openweathermap.org/data/2.5/weather?appid=d3cfde203de9c80b7b1bab1e8e60ab91&units=Imperial&q=albany\n",
      "Data Gathered for 3424607, tasiilaq, http://api.openweathermap.org/data/2.5/weather?appid=d3cfde203de9c80b7b1bab1e8e60ab91&units=Imperial&q=tasiilaq\n",
      "Data Gathered for 4021858, guerrero negro, http://api.openweathermap.org/data/2.5/weather?appid=d3cfde203de9c80b7b1bab1e8e60ab91&units=Imperial&q=guerrero negro\n",
      "Data Gathered for 2013279, vostok, http://api.openweathermap.org/data/2.5/weather?appid=d3cfde203de9c80b7b1bab1e8e60ab91&units=Imperial&q=vostok\n",
      "Data Gathered for 3366880, hermanus, http://api.openweathermap.org/data/2.5/weather?appid=d3cfde203de9c80b7b1bab1e8e60ab91&units=Imperial&q=hermanus\n",
      "Data Gathered for 1259385, port blair, http://api.openweathermap.org/data/2.5/weather?appid=d3cfde203de9c80b7b1bab1e8e60ab91&units=Imperial&q=port blair\n",
      "Data Gathered for 2075265, busselton, http://api.openweathermap.org/data/2.5/weather?appid=d3cfde203de9c80b7b1bab1e8e60ab91&units=Imperial&q=busselton\n",
      "Data Gathered for 178443, wajir, http://api.openweathermap.org/data/2.5/weather?appid=d3cfde203de9c80b7b1bab1e8e60ab91&units=Imperial&q=wajir\n",
      "Data Gathered for 2729907, longyearbyen, http://api.openweathermap.org/data/2.5/weather?appid=d3cfde203de9c80b7b1bab1e8e60ab91&units=Imperial&q=longyearbyen\n",
      "Not Enough Info for ngukurr, au\n",
      "Data Gathered for 5380437, pacific grove, http://api.openweathermap.org/data/2.5/weather?appid=d3cfde203de9c80b7b1bab1e8e60ab91&units=Imperial&q=pacific grove\n",
      "Data Gathered for 60019, eyl, http://api.openweathermap.org/data/2.5/weather?appid=d3cfde203de9c80b7b1bab1e8e60ab91&units=Imperial&q=eyl\n",
      "Data Gathered for 2729907, longyearbyen, http://api.openweathermap.org/data/2.5/weather?appid=d3cfde203de9c80b7b1bab1e8e60ab91&units=Imperial&q=longyearbyen\n",
      "Data Gathered for 4035715, avarua, http://api.openweathermap.org/data/2.5/weather?appid=d3cfde203de9c80b7b1bab1e8e60ab91&units=Imperial&q=avarua\n",
      "Data Gathered for 3874787, punta arenas, http://api.openweathermap.org/data/2.5/weather?appid=d3cfde203de9c80b7b1bab1e8e60ab91&units=Imperial&q=punta arenas\n",
      "Data Gathered for 3874787, punta arenas, http://api.openweathermap.org/data/2.5/weather?appid=d3cfde203de9c80b7b1bab1e8e60ab91&units=Imperial&q=punta arenas\n",
      "Data Gathered for 2075265, busselton, http://api.openweathermap.org/data/2.5/weather?appid=d3cfde203de9c80b7b1bab1e8e60ab91&units=Imperial&q=busselton\n",
      "Data Gathered for 1263942, manavalakurichi, http://api.openweathermap.org/data/2.5/weather?appid=d3cfde203de9c80b7b1bab1e8e60ab91&units=Imperial&q=manavalakurichi\n",
      "Data Gathered for 5855927, hilo, http://api.openweathermap.org/data/2.5/weather?appid=d3cfde203de9c80b7b1bab1e8e60ab91&units=Imperial&q=hilo\n",
      "Data Gathered for 4984075, alpena, http://api.openweathermap.org/data/2.5/weather?appid=d3cfde203de9c80b7b1bab1e8e60ab91&units=Imperial&q=alpena\n",
      "Data Gathered for 3896218, castro, http://api.openweathermap.org/data/2.5/weather?appid=d3cfde203de9c80b7b1bab1e8e60ab91&units=Imperial&q=castro\n",
      "Data Gathered for 5017822, bemidji, http://api.openweathermap.org/data/2.5/weather?appid=d3cfde203de9c80b7b1bab1e8e60ab91&units=Imperial&q=bemidji\n",
      "Data Gathered for 1054329, vangaindrano, http://api.openweathermap.org/data/2.5/weather?appid=d3cfde203de9c80b7b1bab1e8e60ab91&units=Imperial&q=vangaindrano\n",
      "Data Gathered for 5106834, albany, http://api.openweathermap.org/data/2.5/weather?appid=d3cfde203de9c80b7b1bab1e8e60ab91&units=Imperial&q=albany\n",
      "Not Enough Info for belushya guba, ru\n",
      "Not Enough Info for belushya guba, ru\n",
      "Data Gathered for 4020109, atuona, http://api.openweathermap.org/data/2.5/weather?appid=d3cfde203de9c80b7b1bab1e8e60ab91&units=Imperial&q=atuona\n",
      "Data Gathered for 1168700, ormara, http://api.openweathermap.org/data/2.5/weather?appid=d3cfde203de9c80b7b1bab1e8e60ab91&units=Imperial&q=ormara\n",
      "Data Gathered for 4267710, sitka, http://api.openweathermap.org/data/2.5/weather?appid=d3cfde203de9c80b7b1bab1e8e60ab91&units=Imperial&q=sitka\n",
      "Data Gathered for 5880568, bethel, http://api.openweathermap.org/data/2.5/weather?appid=d3cfde203de9c80b7b1bab1e8e60ab91&units=Imperial&q=bethel\n",
      "Data Gathered for 2180815, tuatapere, http://api.openweathermap.org/data/2.5/weather?appid=d3cfde203de9c80b7b1bab1e8e60ab91&units=Imperial&q=tuatapere\n",
      "Data Gathered for 2121385, severo-kurilsk, http://api.openweathermap.org/data/2.5/weather?appid=d3cfde203de9c80b7b1bab1e8e60ab91&units=Imperial&q=severo-kurilsk\n",
      "Data Gathered for 1697332, ocampo, http://api.openweathermap.org/data/2.5/weather?appid=d3cfde203de9c80b7b1bab1e8e60ab91&units=Imperial&q=ocampo\n",
      "Data Gathered for 2168943, devonport, http://api.openweathermap.org/data/2.5/weather?appid=d3cfde203de9c80b7b1bab1e8e60ab91&units=Imperial&q=devonport\n",
      "Not Enough Info for sentyabrskiy, ru\n",
      "Data Gathered for 2158744, margate, http://api.openweathermap.org/data/2.5/weather?appid=d3cfde203de9c80b7b1bab1e8e60ab91&units=Imperial&q=margate\n"
     ]
    },
    {
     "name": "stdout",
     "output_type": "stream",
     "text": [
      "Data Gathered for 4030556, rikitea, http://api.openweathermap.org/data/2.5/weather?appid=d3cfde203de9c80b7b1bab1e8e60ab91&units=Imperial&q=rikitea\n",
      "Data Gathered for 2163355, hobart, http://api.openweathermap.org/data/2.5/weather?appid=d3cfde203de9c80b7b1bab1e8e60ab91&units=Imperial&q=hobart\n",
      "Data Gathered for 2063036, port lincoln, http://api.openweathermap.org/data/2.5/weather?appid=d3cfde203de9c80b7b1bab1e8e60ab91&units=Imperial&q=port lincoln\n",
      "Data Gathered for 2075265, busselton, http://api.openweathermap.org/data/2.5/weather?appid=d3cfde203de9c80b7b1bab1e8e60ab91&units=Imperial&q=busselton\n",
      "Data Gathered for 1633419, padang, http://api.openweathermap.org/data/2.5/weather?appid=d3cfde203de9c80b7b1bab1e8e60ab91&units=Imperial&q=padang\n",
      "Data Gathered for 4030556, rikitea, http://api.openweathermap.org/data/2.5/weather?appid=d3cfde203de9c80b7b1bab1e8e60ab91&units=Imperial&q=rikitea\n",
      "Data Gathered for 588365, vao, http://api.openweathermap.org/data/2.5/weather?appid=d3cfde203de9c80b7b1bab1e8e60ab91&units=Imperial&q=vao\n",
      "Not Enough Info for liapades, gr\n",
      "Data Gathered for 5106834, albany, http://api.openweathermap.org/data/2.5/weather?appid=d3cfde203de9c80b7b1bab1e8e60ab91&units=Imperial&q=albany\n",
      "Data Gathered for 3378644, georgetown, http://api.openweathermap.org/data/2.5/weather?appid=d3cfde203de9c80b7b1bab1e8e60ab91&units=Imperial&q=georgetown\n",
      "Data Gathered for 3424607, tasiilaq, http://api.openweathermap.org/data/2.5/weather?appid=d3cfde203de9c80b7b1bab1e8e60ab91&units=Imperial&q=tasiilaq\n",
      "Data Gathered for 2618795, klaksvik, http://api.openweathermap.org/data/2.5/weather?appid=d3cfde203de9c80b7b1bab1e8e60ab91&units=Imperial&q=klaksvik\n",
      "Data Gathered for 292968, abu dhabi, http://api.openweathermap.org/data/2.5/weather?appid=d3cfde203de9c80b7b1bab1e8e60ab91&units=Imperial&q=abu dhabi\n",
      "Data Gathered for 4031574, provideniya, http://api.openweathermap.org/data/2.5/weather?appid=d3cfde203de9c80b7b1bab1e8e60ab91&units=Imperial&q=provideniya\n",
      "Data Gathered for 6201424, mataura, http://api.openweathermap.org/data/2.5/weather?appid=d3cfde203de9c80b7b1bab1e8e60ab91&units=Imperial&q=mataura\n",
      "Data Gathered for 2126199, cherskiy, http://api.openweathermap.org/data/2.5/weather?appid=d3cfde203de9c80b7b1bab1e8e60ab91&units=Imperial&q=cherskiy\n",
      "Data Gathered for 5712169, baker city, http://api.openweathermap.org/data/2.5/weather?appid=d3cfde203de9c80b7b1bab1e8e60ab91&units=Imperial&q=baker city\n",
      "Data Gathered for 3465745, conceicao do mato dentro, http://api.openweathermap.org/data/2.5/weather?appid=d3cfde203de9c80b7b1bab1e8e60ab91&units=Imperial&q=conceicao do mato dentro\n",
      "Data Gathered for 1848373, fukue, http://api.openweathermap.org/data/2.5/weather?appid=d3cfde203de9c80b7b1bab1e8e60ab91&units=Imperial&q=fukue\n",
      "Data Gathered for 964432, port alfred, http://api.openweathermap.org/data/2.5/weather?appid=d3cfde203de9c80b7b1bab1e8e60ab91&units=Imperial&q=port alfred\n",
      "Data Gathered for 6201424, mataura, http://api.openweathermap.org/data/2.5/weather?appid=d3cfde203de9c80b7b1bab1e8e60ab91&units=Imperial&q=mataura\n",
      "Data Gathered for 964432, port alfred, http://api.openweathermap.org/data/2.5/weather?appid=d3cfde203de9c80b7b1bab1e8e60ab91&units=Imperial&q=port alfred\n",
      "Data Gathered for 5855927, hilo, http://api.openweathermap.org/data/2.5/weather?appid=d3cfde203de9c80b7b1bab1e8e60ab91&units=Imperial&q=hilo\n",
      "Data Gathered for 6167817, torbay, http://api.openweathermap.org/data/2.5/weather?appid=d3cfde203de9c80b7b1bab1e8e60ab91&units=Imperial&q=torbay\n",
      "Data Gathered for 2656067, broome, http://api.openweathermap.org/data/2.5/weather?appid=d3cfde203de9c80b7b1bab1e8e60ab91&units=Imperial&q=broome\n",
      "Not Enough Info for illoqqortoormiut, gl\n",
      "Data Gathered for 4035715, avarua, http://api.openweathermap.org/data/2.5/weather?appid=d3cfde203de9c80b7b1bab1e8e60ab91&units=Imperial&q=avarua\n",
      "Data Gathered for 1254046, tura, http://api.openweathermap.org/data/2.5/weather?appid=d3cfde203de9c80b7b1bab1e8e60ab91&units=Imperial&q=tura\n",
      "Data Gathered for 4031742, egvekinot, http://api.openweathermap.org/data/2.5/weather?appid=d3cfde203de9c80b7b1bab1e8e60ab91&units=Imperial&q=egvekinot\n",
      "Data Gathered for 3939761, hualmay, http://api.openweathermap.org/data/2.5/weather?appid=d3cfde203de9c80b7b1bab1e8e60ab91&units=Imperial&q=hualmay\n",
      "Data Gathered for 3833367, ushuaia, http://api.openweathermap.org/data/2.5/weather?appid=d3cfde203de9c80b7b1bab1e8e60ab91&units=Imperial&q=ushuaia\n",
      "Data Gathered for 3453439, ponta do sol, http://api.openweathermap.org/data/2.5/weather?appid=d3cfde203de9c80b7b1bab1e8e60ab91&units=Imperial&q=ponta do sol\n",
      "Data Gathered for 3874787, punta arenas, http://api.openweathermap.org/data/2.5/weather?appid=d3cfde203de9c80b7b1bab1e8e60ab91&units=Imperial&q=punta arenas\n",
      "Data Gathered for 1267239, hosakote, http://api.openweathermap.org/data/2.5/weather?appid=d3cfde203de9c80b7b1bab1e8e60ab91&units=Imperial&q=hosakote\n",
      "Data Gathered for 3831208, qaanaaq, http://api.openweathermap.org/data/2.5/weather?appid=d3cfde203de9c80b7b1bab1e8e60ab91&units=Imperial&q=qaanaaq\n",
      "Not Enough Info for camana, pe\n",
      "Data Gathered for 2022572, khatanga, http://api.openweathermap.org/data/2.5/weather?appid=d3cfde203de9c80b7b1bab1e8e60ab91&units=Imperial&q=khatanga\n",
      "Data Gathered for 4035715, avarua, http://api.openweathermap.org/data/2.5/weather?appid=d3cfde203de9c80b7b1bab1e8e60ab91&units=Imperial&q=avarua\n",
      "Data Gathered for 2140558, koumac, http://api.openweathermap.org/data/2.5/weather?appid=d3cfde203de9c80b7b1bab1e8e60ab91&units=Imperial&q=koumac\n",
      "Data Gathered for 2075265, busselton, http://api.openweathermap.org/data/2.5/weather?appid=d3cfde203de9c80b7b1bab1e8e60ab91&units=Imperial&q=busselton\n",
      "Data Gathered for 6185377, yellowknife, http://api.openweathermap.org/data/2.5/weather?appid=d3cfde203de9c80b7b1bab1e8e60ab91&units=Imperial&q=yellowknife\n",
      "Data Gathered for 3369157, cape town, http://api.openweathermap.org/data/2.5/weather?appid=d3cfde203de9c80b7b1bab1e8e60ab91&units=Imperial&q=cape town\n",
      "Data Gathered for 4501427, port elizabeth, http://api.openweathermap.org/data/2.5/weather?appid=d3cfde203de9c80b7b1bab1e8e60ab91&units=Imperial&q=port elizabeth\n",
      "Data Gathered for 5106834, albany, http://api.openweathermap.org/data/2.5/weather?appid=d3cfde203de9c80b7b1bab1e8e60ab91&units=Imperial&q=albany\n",
      "Data Gathered for 3356343, karasburg, http://api.openweathermap.org/data/2.5/weather?appid=d3cfde203de9c80b7b1bab1e8e60ab91&units=Imperial&q=karasburg\n",
      "Data Gathered for 2026126, borzya, http://api.openweathermap.org/data/2.5/weather?appid=d3cfde203de9c80b7b1bab1e8e60ab91&units=Imperial&q=borzya\n",
      "Data Gathered for 530196, malyye derbety, http://api.openweathermap.org/data/2.5/weather?appid=d3cfde203de9c80b7b1bab1e8e60ab91&units=Imperial&q=malyye derbety\n",
      "Data Gathered for 2012530, zhigansk, http://api.openweathermap.org/data/2.5/weather?appid=d3cfde203de9c80b7b1bab1e8e60ab91&units=Imperial&q=zhigansk\n",
      "Data Gathered for 5919815, channel-port aux basques, http://api.openweathermap.org/data/2.5/weather?appid=d3cfde203de9c80b7b1bab1e8e60ab91&units=Imperial&q=channel-port aux basques\n",
      "Data Gathered for 2126123, chokurdakh, http://api.openweathermap.org/data/2.5/weather?appid=d3cfde203de9c80b7b1bab1e8e60ab91&units=Imperial&q=chokurdakh\n",
      "Data Gathered for 3833367, ushuaia, http://api.openweathermap.org/data/2.5/weather?appid=d3cfde203de9c80b7b1bab1e8e60ab91&units=Imperial&q=ushuaia\n",
      "Data Gathered for 3026644, souillac, http://api.openweathermap.org/data/2.5/weather?appid=d3cfde203de9c80b7b1bab1e8e60ab91&units=Imperial&q=souillac\n",
      "Data Gathered for 5880568, bethel, http://api.openweathermap.org/data/2.5/weather?appid=d3cfde203de9c80b7b1bab1e8e60ab91&units=Imperial&q=bethel\n",
      "Data Gathered for 6170031, tuktoyaktuk, http://api.openweathermap.org/data/2.5/weather?appid=d3cfde203de9c80b7b1bab1e8e60ab91&units=Imperial&q=tuktoyaktuk\n",
      "Data Gathered for 3894426, coihaique, http://api.openweathermap.org/data/2.5/weather?appid=d3cfde203de9c80b7b1bab1e8e60ab91&units=Imperial&q=coihaique\n",
      "Not Enough Info for illoqqortoormiut, gl\n",
      "Data Gathered for 3412093, vestmannaeyjar, http://api.openweathermap.org/data/2.5/weather?appid=d3cfde203de9c80b7b1bab1e8e60ab91&units=Imperial&q=vestmannaeyjar\n",
      "Data Gathered for 4020109, atuona, http://api.openweathermap.org/data/2.5/weather?appid=d3cfde203de9c80b7b1bab1e8e60ab91&units=Imperial&q=atuona\n"
     ]
    },
    {
     "name": "stdout",
     "output_type": "stream",
     "text": [
      "Data Gathered for 2450173, taoudenni, http://api.openweathermap.org/data/2.5/weather?appid=d3cfde203de9c80b7b1bab1e8e60ab91&units=Imperial&q=taoudenni\n",
      "Data Gathered for 4501427, port elizabeth, http://api.openweathermap.org/data/2.5/weather?appid=d3cfde203de9c80b7b1bab1e8e60ab91&units=Imperial&q=port elizabeth\n",
      "Data Gathered for 1028434, quelimane, http://api.openweathermap.org/data/2.5/weather?appid=d3cfde203de9c80b7b1bab1e8e60ab91&units=Imperial&q=quelimane\n",
      "Data Gathered for 2112802, hasaki, http://api.openweathermap.org/data/2.5/weather?appid=d3cfde203de9c80b7b1bab1e8e60ab91&units=Imperial&q=hasaki\n",
      "Data Gathered for 2297810, mumford, http://api.openweathermap.org/data/2.5/weather?appid=d3cfde203de9c80b7b1bab1e8e60ab91&units=Imperial&q=mumford\n",
      "Data Gathered for 6201424, mataura, http://api.openweathermap.org/data/2.5/weather?appid=d3cfde203de9c80b7b1bab1e8e60ab91&units=Imperial&q=mataura\n",
      "Data Gathered for 3424607, tasiilaq, http://api.openweathermap.org/data/2.5/weather?appid=d3cfde203de9c80b7b1bab1e8e60ab91&units=Imperial&q=tasiilaq\n",
      "Data Gathered for 1015776, bredasdorp, http://api.openweathermap.org/data/2.5/weather?appid=d3cfde203de9c80b7b1bab1e8e60ab91&units=Imperial&q=bredasdorp\n",
      "Data Gathered for 3831208, qaanaaq, http://api.openweathermap.org/data/2.5/weather?appid=d3cfde203de9c80b7b1bab1e8e60ab91&units=Imperial&q=qaanaaq\n",
      "Data Gathered for 6138908, saint-philippe, http://api.openweathermap.org/data/2.5/weather?appid=d3cfde203de9c80b7b1bab1e8e60ab91&units=Imperial&q=saint-philippe\n",
      "Data Gathered for 6201424, mataura, http://api.openweathermap.org/data/2.5/weather?appid=d3cfde203de9c80b7b1bab1e8e60ab91&units=Imperial&q=mataura\n",
      "Not Enough Info for palabuhanratu, id\n",
      "Not Enough Info for saleaula, ws\n",
      "Data Gathered for 3466980, caravelas, http://api.openweathermap.org/data/2.5/weather?appid=d3cfde203de9c80b7b1bab1e8e60ab91&units=Imperial&q=caravelas\n",
      "Data Gathered for 3471451, arraial do cabo, http://api.openweathermap.org/data/2.5/weather?appid=d3cfde203de9c80b7b1bab1e8e60ab91&units=Imperial&q=arraial do cabo\n",
      "Data Gathered for 3831208, qaanaaq, http://api.openweathermap.org/data/2.5/weather?appid=d3cfde203de9c80b7b1bab1e8e60ab91&units=Imperial&q=qaanaaq\n",
      "Data Gathered for 3374210, sao filipe, http://api.openweathermap.org/data/2.5/weather?appid=d3cfde203de9c80b7b1bab1e8e60ab91&units=Imperial&q=sao filipe\n",
      "Data Gathered for 2126199, cherskiy, http://api.openweathermap.org/data/2.5/weather?appid=d3cfde203de9c80b7b1bab1e8e60ab91&units=Imperial&q=cherskiy\n",
      "Data Gathered for 608324, shetpe, http://api.openweathermap.org/data/2.5/weather?appid=d3cfde203de9c80b7b1bab1e8e60ab91&units=Imperial&q=shetpe\n",
      "Not Enough Info for urumqi, cn\n",
      "Data Gathered for 1015776, bredasdorp, http://api.openweathermap.org/data/2.5/weather?appid=d3cfde203de9c80b7b1bab1e8e60ab91&units=Imperial&q=bredasdorp\n",
      "Data Gathered for 2022572, khatanga, http://api.openweathermap.org/data/2.5/weather?appid=d3cfde203de9c80b7b1bab1e8e60ab91&units=Imperial&q=khatanga\n",
      "Not Enough Info for umzimvubu, za\n",
      "Data Gathered for 3831208, qaanaaq, http://api.openweathermap.org/data/2.5/weather?appid=d3cfde203de9c80b7b1bab1e8e60ab91&units=Imperial&q=qaanaaq\n"
     ]
    }
   ],
   "source": [
    "api_call_count = 0\n",
    "\n",
    "for index, row in location_clean.iterrows():\n",
    "    city = row[\"city\"]\n",
    "    country = row[\"country\"]\n",
    "    query = url + \"appid=\" + api_key + \"&units=\" + units + \"&q=\" + city \n",
    "    \n",
    "\n",
    "    try:\n",
    "        response = req.get(query).json()\n",
    "        latitude = response[\"coord\"][\"lat\"]\n",
    "        longitude = response[\"coord\"][\"lon\"]\n",
    "        date = response[\"dt\"]\n",
    "        temp = response[\"main\"][\"temp_max\"]\n",
    "        humid = response[\"main\"][\"humidity\"]\n",
    "        cloud = response[\"clouds\"][\"all\"]\n",
    "        wind = response[\"wind\"][\"speed\"]\n",
    "        city_number = response[\"id\"]\n",
    "        location_clean.set_value(index,\"Max Temp\",temp)\n",
    "        location_clean.set_value(index,\"Cloudiness\",cloud)\n",
    "        location_clean.set_value(index,\"Latitude\",latitude)\n",
    "        location_clean.set_value(index,\"Longitude\",longitude)\n",
    "        location_clean.set_value(index,\"Date\",date)\n",
    "        location_clean.set_value(index,\"ID\",city_number)\n",
    "        location_clean.set_value(index,\"Humidity\",humid)\n",
    "        location_clean.set_value(index,\"Wind Speed\",wind)\n",
    "        print(\"Data Gathered for %s, %s, %s\" % (city_number,city,query))\n",
    "    except KeyError:\n",
    "        print(\"Not Enough Info for %s, %s\" % (city, country))\n",
    "    api_call_count += 1\n",
    "    if api_call_count % 50 == 0:\n",
    "        time.sleep(60)\n"
   ]
  },
  {
   "cell_type": "markdown",
   "metadata": {},
   "source": [
    "FORMATTING COLUMNS"
   ]
  },
  {
   "cell_type": "code",
   "execution_count": 9,
   "metadata": {},
   "outputs": [
    {
     "data": {
      "text/plain": [
       "454"
      ]
     },
     "execution_count": 9,
     "metadata": {},
     "output_type": "execute_result"
    }
   ],
   "source": [
    "location_clean[\"lat\"] = location_clean[\"lat\"].map(\"{0:.2f}\".format)\n",
    "location_clean[\"lon\"] = location_clean[\"lon\"].map(\"{0:.2f}\".format)\n",
    "location_clean[\"Humidity\"] = pd.to_numeric(location_clean[\"Humidity\"])\n",
    "location_clean[\"Cloudiness\"] = pd.to_numeric(location_clean[\"Cloudiness\"])\n",
    "location_clean[\"Date\"] = pd.to_datetime(location_clean['Date'],unit='s')\n",
    "location_clean = location_clean.dropna()\n",
    "len(location_clean)"
   ]
  },
  {
   "cell_type": "markdown",
   "metadata": {},
   "source": [
    "CLEAN DATA FOR EXPORT"
   ]
  },
  {
   "cell_type": "code",
   "execution_count": 10,
   "metadata": {},
   "outputs": [
    {
     "data": {
      "text/html": [
       "<div>\n",
       "<style>\n",
       "    .dataframe thead tr:only-child th {\n",
       "        text-align: right;\n",
       "    }\n",
       "\n",
       "    .dataframe thead th {\n",
       "        text-align: left;\n",
       "    }\n",
       "\n",
       "    .dataframe tbody tr th {\n",
       "        vertical-align: top;\n",
       "    }\n",
       "</style>\n",
       "<table border=\"1\" class=\"dataframe\">\n",
       "  <thead>\n",
       "    <tr style=\"text-align: right;\">\n",
       "      <th></th>\n",
       "      <th>city</th>\n",
       "      <th>Cloudiness</th>\n",
       "      <th>country</th>\n",
       "      <th>Date</th>\n",
       "      <th>Humidity</th>\n",
       "      <th>lat</th>\n",
       "      <th>lon</th>\n",
       "      <th>Max Temp</th>\n",
       "      <th>Wind Speed</th>\n",
       "    </tr>\n",
       "  </thead>\n",
       "  <tbody>\n",
       "    <tr>\n",
       "      <th>22</th>\n",
       "      <td>mahebourg</td>\n",
       "      <td>75.0</td>\n",
       "      <td>mu</td>\n",
       "      <td>2018-03-02 06:00:00</td>\n",
       "      <td>79.0</td>\n",
       "      <td>-40.78</td>\n",
       "      <td>76.92</td>\n",
       "      <td>84.2</td>\n",
       "      <td>16.11</td>\n",
       "    </tr>\n",
       "    <tr>\n",
       "      <th>734</th>\n",
       "      <td>zabol</td>\n",
       "      <td>0.0</td>\n",
       "      <td>ir</td>\n",
       "      <td>2018-03-02 06:00:00</td>\n",
       "      <td>56.0</td>\n",
       "      <td>31.61</td>\n",
       "      <td>60.25</td>\n",
       "      <td>68</td>\n",
       "      <td>6.93</td>\n",
       "    </tr>\n",
       "    <tr>\n",
       "      <th>428</th>\n",
       "      <td>namibe</td>\n",
       "      <td>20.0</td>\n",
       "      <td>ao</td>\n",
       "      <td>2018-03-02 06:36:30</td>\n",
       "      <td>100.0</td>\n",
       "      <td>-13.12</td>\n",
       "      <td>6.70</td>\n",
       "      <td>73.19</td>\n",
       "      <td>4.76</td>\n",
       "    </tr>\n",
       "    <tr>\n",
       "      <th>839</th>\n",
       "      <td>atuona</td>\n",
       "      <td>64.0</td>\n",
       "      <td>pf</td>\n",
       "      <td>2018-03-02 06:36:30</td>\n",
       "      <td>97.0</td>\n",
       "      <td>-3.31</td>\n",
       "      <td>-139.14</td>\n",
       "      <td>82.01</td>\n",
       "      <td>18.07</td>\n",
       "    </tr>\n",
       "    <tr>\n",
       "      <th>152</th>\n",
       "      <td>punta arenas</td>\n",
       "      <td>75.0</td>\n",
       "      <td>cl</td>\n",
       "      <td>2018-03-02 06:00:00</td>\n",
       "      <td>71.0</td>\n",
       "      <td>-72.38</td>\n",
       "      <td>-99.39</td>\n",
       "      <td>53.6</td>\n",
       "      <td>17.22</td>\n",
       "    </tr>\n",
       "  </tbody>\n",
       "</table>\n",
       "</div>"
      ],
      "text/plain": [
       "             city  Cloudiness country                Date  Humidity     lat  \\\n",
       "22      mahebourg        75.0      mu 2018-03-02 06:00:00      79.0  -40.78   \n",
       "734         zabol         0.0      ir 2018-03-02 06:00:00      56.0   31.61   \n",
       "428        namibe        20.0      ao 2018-03-02 06:36:30     100.0  -13.12   \n",
       "839        atuona        64.0      pf 2018-03-02 06:36:30      97.0   -3.31   \n",
       "152  punta arenas        75.0      cl 2018-03-02 06:00:00      71.0  -72.38   \n",
       "\n",
       "         lon Max Temp Wind Speed  \n",
       "22     76.92     84.2      16.11  \n",
       "734    60.25       68       6.93  \n",
       "428     6.70    73.19       4.76  \n",
       "839  -139.14    82.01      18.07  \n",
       "152   -99.39     53.6      17.22  "
      ]
     },
     "execution_count": 10,
     "metadata": {},
     "output_type": "execute_result"
    }
   ],
   "source": [
    "location_final = location_clean[[\"city\",\"Cloudiness\",\"country\",\n",
    "                                 \"Date\",\"Humidity\",\"lat\",\"lon\",\n",
    "                                 \"Max Temp\",\"Wind Speed\"]]\n",
    "location_final.head()"
   ]
  },
  {
   "cell_type": "code",
   "execution_count": 11,
   "metadata": {},
   "outputs": [],
   "source": [
    "location_final.to_csv(\"weatherPyHWData.csv\", encoding=\"utf-8\", index=False,header=True)"
   ]
  },
  {
   "cell_type": "markdown",
   "metadata": {},
   "source": [
    "CITY LATITUDE VS. MAX TEMPERATURE PLOT"
   ]
  },
  {
   "cell_type": "code",
   "execution_count": 12,
   "metadata": {},
   "outputs": [
    {
     "data": {
      "image/png": "[encoded data removed]",
      "text/plain": [
       "<matplotlib.figure.Figure at 0x17976288da0>"
      ]
     },
     "metadata": {},
     "output_type": "display_data"
    }
   ],
   "source": [
    "x_val = location_final[\"lat\"]\n",
    "y_val = location_final[\"Max Temp\"]\n",
    "plt.scatter(x_val,y_val)\n",
    "plt.title(\"City Latitude vs. Max Temperature (03/01/2018)\")\n",
    "plt.ylabel(\"Max Temperature (F)\")\n",
    "plt.xlabel(\"Latitude\")\n",
    "plt.savefig(\"latVsMaxTemp.png\")\n",
    "plt.show()\n"
   ]
  },
  {
   "cell_type": "markdown",
   "metadata": {},
   "source": [
    "CITY LATITUDE VS. HUMIDITY PLOT"
   ]
  },
  {
   "cell_type": "code",
   "execution_count": 13,
   "metadata": {},
   "outputs": [
    {
     "data": {
      "image/png": "[encoded data removed]",
      "text/plain": [
       "<matplotlib.figure.Figure at 0x17976b169b0>"
      ]
     },
     "metadata": {},
     "output_type": "display_data"
    }
   ],
   "source": [
    "x_val = location_final[\"lat\"]\n",
    "y_val = location_final[\"Humidity\"]\n",
    "plt.scatter(x_val,y_val,color= 'blue', edgecolors = 'black', label = 'Lat vs. Humidity')\n",
    "plt.title(\"City Latitude vs. Humidity (03/01/2018)\")\n",
    "plt.ylabel(\"Humidity (%)\")\n",
    "plt.xlabel(\"Latitude\")\n",
    "plt.savefig(\"latVsHumidity.png\")\n",
    "plt.show()"
   ]
  },
  {
   "cell_type": "markdown",
   "metadata": {},
   "source": [
    "CITY LATITUDE VS. CLOUDINESS PLOT"
   ]
  },
  {
   "cell_type": "code",
   "execution_count": 14,
   "metadata": {},
   "outputs": [
    {
     "data": {
      "image/png": "[encoded data removed]",
      "text/plain": [
       "<matplotlib.figure.Figure at 0x17976b30f98>"
      ]
     },
     "metadata": {},
     "output_type": "display_data"
    }
   ],
   "source": [
    "x_val = location_final[\"lat\"]\n",
    "y_val = location_final[\"Cloudiness\"]\n",
    "plt.scatter(x_val,y_val,color= 'blue', edgecolors = 'black', label = 'Lat vs. Cloudiness')\n",
    "plt.title(\"City Latitude vs. Cloudiness (03/01/2018)\")\n",
    "plt.ylabel(\"Cloudiness (%)\")\n",
    "plt.xlabel(\"Latitude\")\n",
    "plt.savefig(\"latVsCloudiness.png\")\n",
    "plt.show()"
   ]
  },
  {
   "cell_type": "markdown",
   "metadata": {},
   "source": [
    "CITY LATITUDE VS. WIND SPEED PLOT"
   ]
  },
  {
   "cell_type": "code",
   "execution_count": 15,
   "metadata": {},
   "outputs": [
    {
     "data": {
      "image/png": "[encoded data removed]",
      "text/plain": [
       "<matplotlib.figure.Figure at 0x1797730f9e8>"
      ]
     },
     "metadata": {},
     "output_type": "display_data"
    }
   ],
   "source": [
    "x_val = location_final[\"lat\"]\n",
    "y_val = location_final[\"Wind Speed\"]\n",
    "plt.scatter(x_val,y_val,color= 'blue', edgecolors = 'black', label = 'Lat vs. Wind Speed')\n",
    "plt.title(\"City Latitude vs. Wind Speed (03/01/2018)\")\n",
    "plt.ylabel(\"Wind Speed (MPH)\")\n",
    "plt.xlabel(\"Latitude\")\n",
    "plt.savefig(\"latVsWindSpeed.png\")\n",
    "plt.show()"
   ]
  },
  {
   "cell_type": "code",
   "execution_count": null,
   "metadata": {
    "collapsed": true
   },
   "outputs": [],
   "source": []
  }
 ],
 "metadata": {
  "kernelspec": {
   "display_name": "Python 3",
   "language": "python",
   "name": "python3"
  },
  "language_info": {
   "codemirror_mode": {
    "name": "ipython",
    "version": 3
   },
   "file_extension": ".py",
   "mimetype": "text/x-python",
   "name": "python",
   "nbconvert_exporter": "python",
   "pygments_lexer": "ipython3",
   "version": "3.6.3"
  }
 },
 "nbformat": 4,
 "nbformat_minor": 2
}
